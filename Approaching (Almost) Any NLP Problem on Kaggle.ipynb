{
  "nbformat": 4,
  "nbformat_minor": 0,
  "metadata": {
    "kernelspec": {
      "display_name": "Python 3",
      "language": "python",
      "name": "python3"
    },
    "language_info": {
      "name": "python",
      "version": "3.6.6",
      "mimetype": "text/x-python",
      "codemirror_mode": {
        "name": "ipython",
        "version": 3
      },
      "pygments_lexer": "ipython3",
      "nbconvert_exporter": "python",
      "file_extension": ".py"
    },
    "colab": {
      "name": "Approaching (Almost) Any NLP Problem on Kaggle.ipynb",
      "provenance": [],
      "toc_visible": true
    },
    "accelerator": "GPU"
  },
  "cells": [
    {
      "cell_type": "markdown",
      "metadata": {
        "_cell_guid": "49a6cbe6-f10c-4e80-b77d-47bde3848b8c",
        "_uuid": "f81f56104f6d5fc444447b41ec63aa369fd351a8",
        "id": "GK8SBSljRhPn",
        "colab_type": "text"
      },
      "source": [
        "# Approaching (Almost) Any NLP Problem on Kaggle\n",
        "\n",
        "In this post I'll talk about approaching natural language processing problems on Kaggle. As an example, we will use the data from this competition. We will create a very basic first model first and then improve it using different other features. We will also see how deep neural networks can be used and end this post with some ideas about ensembling in general.\n",
        "\n",
        "### This covers:\n",
        "- tfidf \n",
        "- count features\n",
        "- logistic regression\n",
        "- naive bayes\n",
        "- svm\n",
        "- xgboost\n",
        "- grid search\n",
        "- word vectors\n",
        "- LSTM\n",
        "- GRU\n",
        "- Ensembling\n",
        "\n",
        "*NOTE*: This notebook is not meant for achieving a very high score on the Leaderboard for this dataset. However, if you follow it properly, you can get a very high score with some tuning. ;)\n",
        "\n",
        "So, without wasting any time, let's start with importing some important python modules that I'll be using."
      ]
    },
    {
      "cell_type": "code",
      "metadata": {
        "id": "_VjsNCB2tFIZ",
        "colab_type": "code",
        "colab": {
          "base_uri": "https://localhost:8080/",
          "height": 119
        },
        "outputId": "73141286-604e-4c35-9123-cbc84bfdb7d2"
      },
      "source": [
        "!git clone https://github.com/Nupy/NLP_Beginner_Kaggle.git"
      ],
      "execution_count": 2,
      "outputs": [
        {
          "output_type": "stream",
          "text": [
            "Cloning into 'NLP_Beginner_Kaggle'...\n",
            "remote: Enumerating objects: 20, done.\u001b[K\n",
            "remote: Counting objects: 100% (20/20), done.\u001b[K\n",
            "remote: Compressing objects: 100% (15/15), done.\u001b[K\n",
            "remote: Total 20 (delta 4), reused 0 (delta 0), pack-reused 0\u001b[K\n",
            "Unpacking objects: 100% (20/20), done.\n"
          ],
          "name": "stdout"
        }
      ]
    },
    {
      "cell_type": "code",
      "metadata": {
        "_cell_guid": "d46ba3fd-26f1-4635-b2f9-fca916ff3066",
        "_uuid": "21f3ccd962d1556dc2346699d45a29e9ef791367",
        "trusted": false,
        "id": "QVaK802lRhPr",
        "colab_type": "code",
        "colab": {
          "base_uri": "https://localhost:8080/",
          "height": 68
        },
        "outputId": "ee5a5afb-08bc-46f9-b91b-6b0309d3919a"
      },
      "source": [
        "import pandas as pd\n",
        "import numpy as np\n",
        "import xgboost as xgb\n",
        "from tqdm import tqdm\n",
        "from sklearn.svm import SVC\n",
        "from keras.models import Sequential\n",
        "from keras.layers.recurrent import LSTM, GRU\n",
        "from keras.layers.core import Dense, Activation, Dropout\n",
        "from keras.layers.embeddings import Embedding\n",
        "from keras.layers.normalization import BatchNormalization\n",
        "from keras.utils import np_utils\n",
        "from sklearn import preprocessing, decomposition, model_selection, metrics, pipeline\n",
        "from sklearn.model_selection import GridSearchCV\n",
        "from sklearn.feature_extraction.text import TfidfVectorizer, CountVectorizer\n",
        "from sklearn.decomposition import TruncatedSVD\n",
        "from sklearn.linear_model import LogisticRegression\n",
        "from sklearn.model_selection import train_test_split\n",
        "from sklearn.naive_bayes import MultinomialNB\n",
        "from keras.layers import GlobalMaxPooling1D, Conv1D, MaxPooling1D, Flatten, Bidirectional, SpatialDropout1D\n",
        "from keras.preprocessing import sequence, text\n",
        "from keras.callbacks import EarlyStopping\n",
        "import nltk\n",
        "from nltk import word_tokenize\n",
        "from nltk.corpus import stopwords\n",
        "nltk.download('stopwords')\n",
        "stop_words = stopwords.words('english')"
      ],
      "execution_count": 5,
      "outputs": [
        {
          "output_type": "stream",
          "text": [
            "Using TensorFlow backend.\n"
          ],
          "name": "stderr"
        },
        {
          "output_type": "stream",
          "text": [
            "[nltk_data] Downloading package stopwords to /root/nltk_data...\n",
            "[nltk_data]   Unzipping corpora/stopwords.zip.\n"
          ],
          "name": "stdout"
        }
      ]
    },
    {
      "cell_type": "markdown",
      "metadata": {
        "_cell_guid": "60326be1-82d1-4677-8ef8-da5b1eac475c",
        "_uuid": "adb496504ab8453ce2b4f91dd6e5f17cbdaf4f68",
        "id": "-Ia8DtPtRhPz",
        "colab_type": "text"
      },
      "source": [
        "Let's load the datasets"
      ]
    },
    {
      "cell_type": "code",
      "metadata": {
        "id": "-5SK6w-CthI6",
        "colab_type": "code",
        "colab": {
          "base_uri": "https://localhost:8080/",
          "height": 34
        },
        "outputId": "eacb084f-eb2c-4c53-aec4-8ce83a6e2f83"
      },
      "source": [
        "!ls"
      ],
      "execution_count": 6,
      "outputs": [
        {
          "output_type": "stream",
          "text": [
            "NLP_Beginner_Kaggle  sample_data\n"
          ],
          "name": "stdout"
        }
      ]
    },
    {
      "cell_type": "code",
      "metadata": {
        "_cell_guid": "367e0329-7aeb-4f39-b1a9-d7395bdca993",
        "_uuid": "d6ea63db0ad0db09b25c35601391b71564601699",
        "trusted": false,
        "id": "W5Oa-WM4RhP0",
        "colab_type": "code",
        "colab": {}
      },
      "source": [
        "train = pd.read_csv('NLP_Beginner_Kaggle/train/train.csv')\n",
        "test = pd.read_csv('NLP_Beginner_Kaggle/test/test.csv')\n",
        "sample = pd.read_csv('NLP_Beginner_Kaggle/sample_submission/sample_submission.csv')"
      ],
      "execution_count": 0,
      "outputs": []
    },
    {
      "cell_type": "markdown",
      "metadata": {
        "_cell_guid": "e171d134-bb33-4578-800c-2d65c2edf9c1",
        "_uuid": "c02f2a3e039aad543bc789188fe08422dd78f5c0",
        "id": "VgRb9tGSRhP6",
        "colab_type": "text"
      },
      "source": [
        "A quick look at the data"
      ]
    },
    {
      "cell_type": "code",
      "metadata": {
        "_cell_guid": "1a9da2ba-2c8c-466d-8ceb-cb1fdb4351a8",
        "_uuid": "0fccc28ade4d126b5279d52b0f24300f8c18e69b",
        "trusted": false,
        "id": "r0YIQbtARhP7",
        "colab_type": "code",
        "colab": {}
      },
      "source": [
        "train.head()"
      ],
      "execution_count": 0,
      "outputs": []
    },
    {
      "cell_type": "code",
      "metadata": {
        "_cell_guid": "c1ec2ba0-7bac-4983-8f68-850f26251eb6",
        "_uuid": "6b2ace3ea08492e59402dc2abcf65b99ff1a537e",
        "trusted": false,
        "id": "uzVqXRmGRhP_",
        "colab_type": "code",
        "colab": {}
      },
      "source": [
        "test.head()"
      ],
      "execution_count": 0,
      "outputs": []
    },
    {
      "cell_type": "code",
      "metadata": {
        "_cell_guid": "a3d6737a-2e2b-4213-abf6-94dbefe3a660",
        "_uuid": "43a424c31b40cc7ba4b622fb915846ae00c1f3b7",
        "trusted": false,
        "id": "qVRUzkxMRhQD",
        "colab_type": "code",
        "colab": {}
      },
      "source": [
        "sample.head()"
      ],
      "execution_count": 0,
      "outputs": []
    },
    {
      "cell_type": "markdown",
      "metadata": {
        "_cell_guid": "2c44d877-8fff-41a8-95dc-cd4ddebfa337",
        "_uuid": "68e1ad174df4fd40bb6965d9d46aaf42b8fa39c8",
        "id": "RFq04rshRhQI",
        "colab_type": "text"
      },
      "source": [
        "The problem requires us to predict the author, i.e. EAP, HPL and MWS given the text. In simpler words, text classification with 3 different classes.\n",
        "\n",
        "For this particular problem, Kaggle has specified multi-class log-loss as evaluation metric. This is implemented in the follow way (taken from: https://github.com/dnouri/nolearn/blob/master/nolearn/lasagne/util.py)"
      ]
    },
    {
      "cell_type": "code",
      "metadata": {
        "_cell_guid": "deb46a3c-6170-4323-8fac-2710662ae0b9",
        "_uuid": "62cd92e75f858aa7c97234e8267a64b00c6d04d0",
        "trusted": false,
        "id": "YucJzH8YRhQJ",
        "colab_type": "code",
        "colab": {}
      },
      "source": [
        "def multiclass_logloss(actual, predicted, eps=1e-15):\n",
        "    \"\"\"Multi class version of Logarithmic Loss metric.\n",
        "    :param actual: Array containing the actual target classes\n",
        "    :param predicted: Matrix with class predictions, one probability per class\n",
        "    \"\"\"\n",
        "    # Convert 'actual' to a binary array if it's not already:\n",
        "    if len(actual.shape) == 1:\n",
        "        actual2 = np.zeros((actual.shape[0], predicted.shape[1]))\n",
        "        for i, val in enumerate(actual):\n",
        "            actual2[i, val] = 1\n",
        "        actual = actual2\n",
        "\n",
        "    clip = np.clip(predicted, eps, 1 - eps)\n",
        "    rows = actual.shape[0]\n",
        "    vsota = np.sum(actual * np.log(clip))\n",
        "    return -1.0 / rows * vsota"
      ],
      "execution_count": 0,
      "outputs": []
    },
    {
      "cell_type": "markdown",
      "metadata": {
        "_cell_guid": "b4a37951-7a53-43b9-bb5a-0335f1259be3",
        "_uuid": "14ede2221105fb84bb6b2d3a85f9a1f483e8b124",
        "id": "gZQ0TC20RhQM",
        "colab_type": "text"
      },
      "source": [
        "We use the LabelEncoder from scikit-learn to convert text labels to integers, 0, 1 2"
      ]
    },
    {
      "cell_type": "code",
      "metadata": {
        "_cell_guid": "d59a646d-7739-496c-814f-594d371d76eb",
        "_uuid": "19eb8c10f06df8e0f543ee12f794df5f88b0ff1a",
        "trusted": false,
        "id": "eIHmrbmXRhQN",
        "colab_type": "code",
        "colab": {}
      },
      "source": [
        "lbl_enc = preprocessing.LabelEncoder()\n",
        "y = lbl_enc.fit_transform(train.author.values)"
      ],
      "execution_count": 0,
      "outputs": []
    },
    {
      "cell_type": "markdown",
      "metadata": {
        "_cell_guid": "65403e74-091f-43c4-9523-3e15d8a75a1e",
        "_uuid": "4ffd04f40d9e921673d06ad64e01b9a7395d8e76",
        "id": "-x_ZIVJkRhQQ",
        "colab_type": "text"
      },
      "source": [
        "Before going further it is important that we split the data into training and validation sets. We can do it using `train_test_split` from the `model_selection` module of scikit-learn."
      ]
    },
    {
      "cell_type": "code",
      "metadata": {
        "_cell_guid": "ba8e606d-8dee-495e-8c3f-62aa916e9927",
        "_uuid": "b45676b121e2b719d355619e24cfed13d0d33f74",
        "trusted": false,
        "id": "LJIQA0cyRhQQ",
        "colab_type": "code",
        "colab": {}
      },
      "source": [
        "xtrain, xvalid, ytrain, yvalid = train_test_split(train.text.values, y, \n",
        "                                                  stratify=y, \n",
        "                                                  random_state=42, \n",
        "                                                  test_size=0.1, shuffle=True)"
      ],
      "execution_count": 0,
      "outputs": []
    },
    {
      "cell_type": "code",
      "metadata": {
        "_cell_guid": "9e2fe6a9-8de0-4bbd-8264-f6b78e7993e2",
        "_uuid": "6c8659049537836fdf00d19d6d656630a306d217",
        "trusted": false,
        "id": "uchVtVnMRhQW",
        "colab_type": "code",
        "colab": {
          "base_uri": "https://localhost:8080/",
          "height": 51
        },
        "outputId": "5c16e38c-d175-44a2-a0bf-68965e3af315"
      },
      "source": [
        "print (xtrain.shape)\n",
        "print (xvalid.shape)"
      ],
      "execution_count": 14,
      "outputs": [
        {
          "output_type": "stream",
          "text": [
            "(17621,)\n",
            "(1958,)\n"
          ],
          "name": "stdout"
        }
      ]
    },
    {
      "cell_type": "markdown",
      "metadata": {
        "_cell_guid": "3db70c26-d684-478a-bcd4-980ed6c6d65b",
        "_uuid": "794fb768f4a8e42c4be4f1dbb27144aae4d00c79",
        "id": "-mh_XJOnRhQa",
        "colab_type": "text"
      },
      "source": [
        "## Building Basic Models\n",
        "\n",
        "Let's start building our very first model. \n",
        "\n",
        "Our very first model is a simple TF-IDF (Term Frequency - Inverse Document Frequency) followed by a simple Logistic Regression."
      ]
    },
    {
      "cell_type": "code",
      "metadata": {
        "_cell_guid": "b387f2af-11b1-455d-ad8d-320ed1005be3",
        "_uuid": "350d453dc982f494c3774dbdcf731d856546d611",
        "trusted": false,
        "id": "4GjDO2jyRhQa",
        "colab_type": "code",
        "colab": {}
      },
      "source": [
        "# Always start with these features. They work (almost) everytime!\n",
        "tfv = TfidfVectorizer(min_df=3,  max_features=None, \n",
        "            strip_accents='unicode', analyzer='word',token_pattern=r'\\w{1,}',\n",
        "            ngram_range=(1, 3), use_idf=1,smooth_idf=1,sublinear_tf=1,\n",
        "            stop_words = 'english')\n",
        "\n",
        "# Fitting TF-IDF to both training and test sets (semi-supervised learning)\n",
        "tfv.fit(list(xtrain) + list(xvalid))\n",
        "xtrain_tfv =  tfv.transform(xtrain) \n",
        "xvalid_tfv = tfv.transform(xvalid)"
      ],
      "execution_count": 0,
      "outputs": []
    },
    {
      "cell_type": "code",
      "metadata": {
        "_cell_guid": "4106bbd1-dc35-4dc2-bda0-3024d3c056d3",
        "_uuid": "3f5dd9ce043364fc61ba3a30298acd9cb72a2938",
        "trusted": false,
        "id": "w4quDIqJRhQd",
        "colab_type": "code",
        "colab": {
          "base_uri": "https://localhost:8080/",
          "height": 190
        },
        "outputId": "585a0814-978c-4136-a40e-8b108e671fc5"
      },
      "source": [
        "# Fitting a simple Logistic Regression on TFIDF\n",
        "clf = LogisticRegression(C=1.0)\n",
        "clf.fit(xtrain_tfv, ytrain)\n",
        "predictions = clf.predict_proba(xvalid_tfv)\n",
        "\n",
        "print (\"logloss: %0.3f \" % multiclass_logloss(yvalid, predictions))"
      ],
      "execution_count": 16,
      "outputs": [
        {
          "output_type": "stream",
          "text": [
            "logloss: 0.572 \n"
          ],
          "name": "stdout"
        },
        {
          "output_type": "stream",
          "text": [
            "/usr/local/lib/python3.6/dist-packages/sklearn/linear_model/_logistic.py:940: ConvergenceWarning: lbfgs failed to converge (status=1):\n",
            "STOP: TOTAL NO. of ITERATIONS REACHED LIMIT.\n",
            "\n",
            "Increase the number of iterations (max_iter) or scale the data as shown in:\n",
            "    https://scikit-learn.org/stable/modules/preprocessing.html\n",
            "Please also refer to the documentation for alternative solver options:\n",
            "    https://scikit-learn.org/stable/modules/linear_model.html#logistic-regression\n",
            "  extra_warning_msg=_LOGISTIC_SOLVER_CONVERGENCE_MSG)\n"
          ],
          "name": "stderr"
        }
      ]
    },
    {
      "cell_type": "markdown",
      "metadata": {
        "_cell_guid": "61b2dcb5-46dd-4666-b27f-a8bb48b07f79",
        "_uuid": "f347acb0850db4d13d355e8238250e64f6fbcde8",
        "id": "bcMCjKvhRhQg",
        "colab_type": "text"
      },
      "source": [
        "And there we go. We have our first model with a multiclass logloss of 0.626.\n",
        "\n",
        "But we are greedy and want a better score. Lets look at the same model with a different data.\n",
        "\n",
        "Instead of using TF-IDF, we can also use word counts as features. This can be done easily using CountVectorizer from scikit-learn."
      ]
    },
    {
      "cell_type": "code",
      "metadata": {
        "_cell_guid": "7605227c-6cf5-4e00-bcf9-5781afdcc5ed",
        "_uuid": "b464626583417155f1d746e44a2303f560506706",
        "trusted": false,
        "id": "ZTmBZ_DuRhQg",
        "colab_type": "code",
        "colab": {}
      },
      "source": [
        "ctv = CountVectorizer(analyzer='word',token_pattern=r'\\w{1,}',\n",
        "            ngram_range=(1, 3), stop_words = 'english')\n",
        "\n",
        "# Fitting Count Vectorizer to both training and test sets (semi-supervised learning)\n",
        "ctv.fit(list(xtrain) + list(xvalid))\n",
        "xtrain_ctv =  ctv.transform(xtrain) \n",
        "xvalid_ctv = ctv.transform(xvalid)"
      ],
      "execution_count": 0,
      "outputs": []
    },
    {
      "cell_type": "code",
      "metadata": {
        "_cell_guid": "fb008df6-95ba-4f50-bdb0-f18371253d39",
        "_uuid": "e459be88b56b9a238b7e7bddfd52df1576dd7dce",
        "trusted": false,
        "id": "vT6OzL5IRhQj",
        "colab_type": "code",
        "colab": {
          "base_uri": "https://localhost:8080/",
          "height": 190
        },
        "outputId": "147364df-d7f6-463f-c768-1b10e38ba1a6"
      },
      "source": [
        "# Fitting a simple Logistic Regression on Counts\n",
        "clf = LogisticRegression(C=1.0)\n",
        "clf.fit(xtrain_ctv, ytrain)\n",
        "predictions = clf.predict_proba(xvalid_ctv)\n",
        "\n",
        "print (\"logloss: %0.3f \" % multiclass_logloss(yvalid, predictions))"
      ],
      "execution_count": 18,
      "outputs": [
        {
          "output_type": "stream",
          "text": [
            "logloss: 0.527 \n"
          ],
          "name": "stdout"
        },
        {
          "output_type": "stream",
          "text": [
            "/usr/local/lib/python3.6/dist-packages/sklearn/linear_model/_logistic.py:940: ConvergenceWarning: lbfgs failed to converge (status=1):\n",
            "STOP: TOTAL NO. of ITERATIONS REACHED LIMIT.\n",
            "\n",
            "Increase the number of iterations (max_iter) or scale the data as shown in:\n",
            "    https://scikit-learn.org/stable/modules/preprocessing.html\n",
            "Please also refer to the documentation for alternative solver options:\n",
            "    https://scikit-learn.org/stable/modules/linear_model.html#logistic-regression\n",
            "  extra_warning_msg=_LOGISTIC_SOLVER_CONVERGENCE_MSG)\n"
          ],
          "name": "stderr"
        }
      ]
    },
    {
      "cell_type": "markdown",
      "metadata": {
        "_cell_guid": "be77d9bc-e052-47a5-aec6-12a0e07df407",
        "_uuid": "e2eb975dda65d0e32e1160843c54eba171b93f9b",
        "id": "PkqfXGBORhQm",
        "colab_type": "text"
      },
      "source": [
        "Aaaaanddddddd Wallah! We just improved our first model by 0.1!!!\n",
        "\n",
        "Next, let's try a very simple model which was quite famous in ancient times - Naive Bayes.\n",
        "\n",
        "Let's see what happens when we use naive bayes on these two datasets:"
      ]
    },
    {
      "cell_type": "code",
      "metadata": {
        "_cell_guid": "e306fce8-89f5-4c87-9fb8-e25445f3d778",
        "_uuid": "111c474e5cadf662f8f714d689c1079e2730b15b",
        "trusted": false,
        "id": "SCLltcStRhQn",
        "colab_type": "code",
        "colab": {
          "base_uri": "https://localhost:8080/",
          "height": 34
        },
        "outputId": "12085b13-2a29-4ccb-d40d-ef145bb819ab"
      },
      "source": [
        "# Fitting a simple Naive Bayes on TFIDF\n",
        "clf = MultinomialNB()\n",
        "clf.fit(xtrain_tfv, ytrain)\n",
        "predictions = clf.predict_proba(xvalid_tfv)\n",
        "\n",
        "print (\"logloss: %0.3f \" % multiclass_logloss(yvalid, predictions))"
      ],
      "execution_count": 19,
      "outputs": [
        {
          "output_type": "stream",
          "text": [
            "logloss: 0.578 \n"
          ],
          "name": "stdout"
        }
      ]
    },
    {
      "cell_type": "markdown",
      "metadata": {
        "_cell_guid": "c62901ef-dd3b-43dd-87ee-7d365138878a",
        "_uuid": "a629ee2a38f9944ad874c067a089c9957c780059",
        "id": "f1PBaho_RhQr",
        "colab_type": "text"
      },
      "source": [
        "Good performance! But the logistic regression on counts is still better! What happens when we use this model on counts data instead?"
      ]
    },
    {
      "cell_type": "code",
      "metadata": {
        "_cell_guid": "db5ca297-b2a8-47fc-beec-90727e32d169",
        "_uuid": "8a91cb086f7fa95281d4c7a795e60f20a22ba865",
        "trusted": false,
        "id": "GtvKRNBlRhQs",
        "colab_type": "code",
        "colab": {
          "base_uri": "https://localhost:8080/",
          "height": 34
        },
        "outputId": "94fa0395-46ad-45c1-d697-909b452f774a"
      },
      "source": [
        "# Fitting a simple Naive Bayes on Counts\n",
        "clf = MultinomialNB()\n",
        "clf.fit(xtrain_ctv, ytrain)\n",
        "predictions = clf.predict_proba(xvalid_ctv)\n",
        "\n",
        "print (\"logloss: %0.3f \" % multiclass_logloss(yvalid, predictions))"
      ],
      "execution_count": 20,
      "outputs": [
        {
          "output_type": "stream",
          "text": [
            "logloss: 0.485 \n"
          ],
          "name": "stdout"
        }
      ]
    },
    {
      "cell_type": "markdown",
      "metadata": {
        "_cell_guid": "5647bb2d-8d76-4a98-91ec-8b111a7a5b30",
        "_uuid": "0c9a2e87e332839f37e2a53bb88a876bb1520cd7",
        "id": "XRG2gYPuRhQw",
        "colab_type": "text"
      },
      "source": [
        "Whoa! Seems like old stuff still works good!!!! One more ancient algorithms in the list is SVMs. Some people \"love\" SVMs. So, we must try SVM on this dataset.\n",
        "\n",
        "Since SVMs take a lot of time, we will reduce the number of features from the TF-IDF using Singular Value Decomposition before applying SVM. \n",
        "\n",
        "Also, note that before applying SVMs, we *must* standardize the data."
      ]
    },
    {
      "cell_type": "code",
      "metadata": {
        "_cell_guid": "ae84d757-601f-4f7f-b53d-6d4f99ae7632",
        "_uuid": "d055b28969acd7a93afbb7c51c187b74e539e01b",
        "trusted": false,
        "id": "8_iaB1tSRhQw",
        "colab_type": "code",
        "colab": {}
      },
      "source": [
        "# Apply SVD, I chose 120 components. 120-200 components are good enough for SVM model.\n",
        "svd = decomposition.TruncatedSVD(n_components=120)\n",
        "svd.fit(xtrain_tfv)\n",
        "xtrain_svd = svd.transform(xtrain_tfv)\n",
        "xvalid_svd = svd.transform(xvalid_tfv)\n",
        "\n",
        "# Scale the data obtained from SVD. Renaming variable to reuse without scaling.\n",
        "scl = preprocessing.StandardScaler()\n",
        "scl.fit(xtrain_svd)\n",
        "xtrain_svd_scl = scl.transform(xtrain_svd)\n",
        "xvalid_svd_scl = scl.transform(xvalid_svd)"
      ],
      "execution_count": 0,
      "outputs": []
    },
    {
      "cell_type": "markdown",
      "metadata": {
        "_cell_guid": "54f2755a-be45-4288-a11f-4e485b39b362",
        "_uuid": "3786fbe2fb370926769f27ef38af948aec0ce78b",
        "id": "9k_dexoRRhQ0",
        "colab_type": "text"
      },
      "source": [
        "Now it's time to apply SVM. After running the following cell, feel free to go for a walk or talk to your girlfriend/boyfriend. :P"
      ]
    },
    {
      "cell_type": "code",
      "metadata": {
        "_cell_guid": "93f65421-ccde-4711-a292-63ce5d8a1f5f",
        "_uuid": "293f90a7524ab90753ecae42244d1337799740dd",
        "trusted": false,
        "id": "Iusks1JFRhQ1",
        "colab_type": "code",
        "colab": {
          "base_uri": "https://localhost:8080/",
          "height": 34
        },
        "outputId": "8c438f4b-fc2d-4938-9ed5-64214acc50c1"
      },
      "source": [
        "# Fitting a simple SVM\n",
        "clf = SVC(C=1.0, probability=True) # since we need probabilities\n",
        "clf.fit(xtrain_svd_scl, ytrain)\n",
        "predictions = clf.predict_proba(xvalid_svd_scl)\n",
        "\n",
        "print (\"logloss: %0.3f \" % multiclass_logloss(yvalid, predictions))"
      ],
      "execution_count": 22,
      "outputs": [
        {
          "output_type": "stream",
          "text": [
            "logloss: 0.731 \n"
          ],
          "name": "stdout"
        }
      ]
    },
    {
      "cell_type": "markdown",
      "metadata": {
        "_cell_guid": "f34d307a-ddc4-4c7e-9034-2ffc59cd73d3",
        "_uuid": "534f762addade24a91d0c37cebb195e510e1a6cd",
        "id": "PtVYzBJmRhQ4",
        "colab_type": "text"
      },
      "source": [
        "Oops! time to get up! Looks like SVM doesn't perform well on this data...! \n",
        "\n",
        "Before moving further, lets apply the most popular algorithm on Kaggle: xgboost!"
      ]
    },
    {
      "cell_type": "code",
      "metadata": {
        "_cell_guid": "b8bf1058-a784-4d9e-b55b-b33b86bdccde",
        "_uuid": "b896de07f6a4901c5b8896f94edf0ddbdf072137",
        "trusted": false,
        "id": "0TteSX4aRhQ5",
        "colab_type": "code",
        "colab": {
          "base_uri": "https://localhost:8080/",
          "height": 34
        },
        "outputId": "d7a58e6d-086b-4016-e3af-1e8edd6cdeec"
      },
      "source": [
        "# Fitting a simple xgboost on tf-idf\n",
        "clf = xgb.XGBClassifier(max_depth=7, n_estimators=200, colsample_bytree=0.8, \n",
        "                        subsample=0.8, nthread=10, learning_rate=0.1)\n",
        "clf.fit(xtrain_tfv.tocsc(), ytrain)\n",
        "predictions = clf.predict_proba(xvalid_tfv.tocsc())\n",
        "\n",
        "print (\"logloss: %0.3f \" % multiclass_logloss(yvalid, predictions))"
      ],
      "execution_count": 23,
      "outputs": [
        {
          "output_type": "stream",
          "text": [
            "logloss: 0.782 \n"
          ],
          "name": "stdout"
        }
      ]
    },
    {
      "cell_type": "code",
      "metadata": {
        "_cell_guid": "e774a72f-a605-4cce-b68f-0005dd260c58",
        "_uuid": "9c62f03cadaa936f5cba3936e8a05697009c2575",
        "trusted": false,
        "id": "kyGEBgGqRhQ8",
        "colab_type": "code",
        "colab": {
          "base_uri": "https://localhost:8080/",
          "height": 34
        },
        "outputId": "177d3e9e-bf25-4cda-ee51-da833ed70b92"
      },
      "source": [
        "# Fitting a simple xgboost on tf-idf\n",
        "clf = xgb.XGBClassifier(max_depth=7, n_estimators=200, colsample_bytree=0.8, \n",
        "                        subsample=0.8, nthread=10, learning_rate=0.1)\n",
        "clf.fit(xtrain_ctv.tocsc(), ytrain)\n",
        "predictions = clf.predict_proba(xvalid_ctv.tocsc())\n",
        "\n",
        "print (\"logloss: %0.3f \" % multiclass_logloss(yvalid, predictions))"
      ],
      "execution_count": 24,
      "outputs": [
        {
          "output_type": "stream",
          "text": [
            "logloss: 0.773 \n"
          ],
          "name": "stdout"
        }
      ]
    },
    {
      "cell_type": "code",
      "metadata": {
        "_cell_guid": "5aa042f9-7871-4a2a-bfb4-359b39d7df39",
        "_uuid": "df266177145ab4ad9c291bbb3874cff687def3b0",
        "trusted": false,
        "id": "alMXT_IZRhQ_",
        "colab_type": "code",
        "colab": {
          "base_uri": "https://localhost:8080/",
          "height": 34
        },
        "outputId": "cbe32671-0b60-436a-9222-26bc3d699bcd"
      },
      "source": [
        "# Fitting a simple xgboost on tf-idf svd features\n",
        "clf = xgb.XGBClassifier(max_depth=7, n_estimators=200, colsample_bytree=0.8, \n",
        "                        subsample=0.8, nthread=10, learning_rate=0.1)\n",
        "clf.fit(xtrain_svd, ytrain)\n",
        "predictions = clf.predict_proba(xvalid_svd)\n",
        "\n",
        "print (\"logloss: %0.3f \" % multiclass_logloss(yvalid, predictions))"
      ],
      "execution_count": 25,
      "outputs": [
        {
          "output_type": "stream",
          "text": [
            "logloss: 0.766 \n"
          ],
          "name": "stdout"
        }
      ]
    },
    {
      "cell_type": "code",
      "metadata": {
        "_cell_guid": "39d1153f-f890-4a37-8d99-317c9bf84c6e",
        "_uuid": "43042fb84ef91e317cfcfa76cbed3d7a02439a03",
        "trusted": false,
        "id": "tqbAtF_XRhRD",
        "colab_type": "code",
        "colab": {
          "base_uri": "https://localhost:8080/",
          "height": 34
        },
        "outputId": "78af47ba-1520-4826-af99-6f9d6f187738"
      },
      "source": [
        "# Fitting a simple xgboost on tf-idf svd features\n",
        "clf = xgb.XGBClassifier(nthread=10)\n",
        "clf.fit(xtrain_svd, ytrain)\n",
        "predictions = clf.predict_proba(xvalid_svd)\n",
        "\n",
        "print (\"logloss: %0.3f \" % multiclass_logloss(yvalid, predictions))"
      ],
      "execution_count": 26,
      "outputs": [
        {
          "output_type": "stream",
          "text": [
            "logloss: 0.810 \n"
          ],
          "name": "stdout"
        }
      ]
    },
    {
      "cell_type": "markdown",
      "metadata": {
        "_cell_guid": "ed048511-1fbb-46d8-8e83-8e4f2198f30f",
        "_uuid": "49d47f7751496c1b8967ff00158df82a0e5e9f18",
        "id": "CBq9F2GQRhRK",
        "colab_type": "text"
      },
      "source": [
        "Seems like no luck with XGBoost! But that is not correct. I haven't done any hyperparameter optimizations yet. And since I'm lazy, I'll just tell you how to do it and you can do it on your own! ;). This will be discussed in the next section:\n",
        "\n",
        "\n",
        "## Grid Search\n",
        "\n",
        "Its a technique for hyperparameter optimization. Not so effective but can give good results if you know the grid you want to use. I specify the parameters that should usually be used in this post: http://blog.kaggle.com/2016/07/21/approaching-almost-any-machine-learning-problem-abhishek-thakur/ Please keep in mind that these are the parameters I usually use. There are many other methods of hyperparameter optimization which may or may not be as effective.\n",
        "\n",
        "In this section, I'll talk about grid search using logistic regression. \n",
        "\n",
        "Before starting with grid search we need to create a scoring function. This is accomplished using the `make_scorer` function of scikit-learn.\n"
      ]
    },
    {
      "cell_type": "code",
      "metadata": {
        "_cell_guid": "50a7703b-52e4-4057-8af7-0d0492f05450",
        "_uuid": "7c3148c857c62662522fddd37d48642526f878da",
        "trusted": false,
        "id": "SFfmz5-PRhRL",
        "colab_type": "code",
        "colab": {}
      },
      "source": [
        "mll_scorer = metrics.make_scorer(multiclass_logloss, greater_is_better=False, needs_proba=True)"
      ],
      "execution_count": 0,
      "outputs": []
    },
    {
      "cell_type": "markdown",
      "metadata": {
        "_cell_guid": "93caaa31-acfc-456d-a991-e37e0279b88f",
        "_uuid": "ee1ec5f4ec8d8db4c888124f63b9aa3ccb5ca736",
        "id": "kDzG6GpwRhRO",
        "colab_type": "text"
      },
      "source": [
        "Next we need a pipeline. For demonstration here, i'll be using a pipeline consisting of SVD, scaling and then logistic regression. Its better to understand with more modules in pipeline than just one ;)"
      ]
    },
    {
      "cell_type": "code",
      "metadata": {
        "_cell_guid": "0fd480dd-71da-4efc-a8e0-cabc3ab75110",
        "_uuid": "26404a6fbd2dbd045bd4af3fdc6317f6ca1f789f",
        "trusted": false,
        "id": "TJ_mnY8HRhRP",
        "colab_type": "code",
        "colab": {}
      },
      "source": [
        "# Initialize SVD\n",
        "svd = TruncatedSVD()\n",
        "    \n",
        "# Initialize the standard scaler \n",
        "scl = preprocessing.StandardScaler()\n",
        "\n",
        "# We will use logistic regression here..\n",
        "lr_model = LogisticRegression()\n",
        "\n",
        "# Create the pipeline \n",
        "clf = pipeline.Pipeline([('svd', svd),\n",
        "                         ('scl', scl),\n",
        "                         ('lr', lr_model)])"
      ],
      "execution_count": 0,
      "outputs": []
    },
    {
      "cell_type": "markdown",
      "metadata": {
        "_cell_guid": "60857c91-6555-473f-a21d-4ddf565b14d7",
        "_uuid": "343935d35ebf9f36d7be0231fe1cbe9d567be48d",
        "id": "V3zIu9dsRhRR",
        "colab_type": "text"
      },
      "source": [
        "Next we need a grid of parameters:"
      ]
    },
    {
      "cell_type": "code",
      "metadata": {
        "_cell_guid": "0d935141-9595-4334-90e5-8ba00281d94c",
        "_uuid": "b3704ca308ccf25b3ea169f923cb0e57cc66f2b6",
        "trusted": false,
        "id": "Rn4-0dlXRhRS",
        "colab_type": "code",
        "colab": {}
      },
      "source": [
        "param_grid = {'svd__n_components' : [120, 180],\n",
        "              'lr__C': [0.1, 1.0, 10], \n",
        "              'lr__penalty': ['l1', 'l2']}"
      ],
      "execution_count": 0,
      "outputs": []
    },
    {
      "cell_type": "markdown",
      "metadata": {
        "_cell_guid": "9acb22f4-31d3-436c-bdeb-cf7ba6156ae3",
        "_uuid": "c36718c732d600c08ca82718956e8933183ccd09",
        "id": "9PgpsMucRhRU",
        "colab_type": "text"
      },
      "source": [
        "So, for SVD we evaluate 120 and 180 components and for logistic regression we evaluate three different values of C with l1 and l2 penalty. We can now start grid search on these parameters."
      ]
    },
    {
      "cell_type": "code",
      "metadata": {
        "_cell_guid": "af0549e8-dc18-4006-a859-af0e36724d1d",
        "_uuid": "10aec7cf5d8c3a1d4ccaf514302c1866eea1b152",
        "trusted": false,
        "id": "IPU5k3pKRhRV",
        "colab_type": "code",
        "colab": {}
      },
      "source": [
        "# Initialize Grid Search Model\n",
        "model = GridSearchCV(estimator=clf, param_grid=param_grid, scoring=mll_scorer,\n",
        "                                 verbose=10, n_jobs=-1, iid=True, refit=True, cv=2)\n",
        "\n",
        "# Fit Grid Search Model\n",
        "model.fit(xtrain_tfv, ytrain)  # we can use the full data here but im only using xtrain\n",
        "print(\"Best score: %0.3f\" % model.best_score_)\n",
        "print(\"Best parameters set:\")\n",
        "best_parameters = model.best_estimator_.get_params()\n",
        "for param_name in sorted(param_grid.keys()):\n",
        "    print(\"\\t%s: %r\" % (param_name, best_parameters[param_name]))"
      ],
      "execution_count": 0,
      "outputs": []
    },
    {
      "cell_type": "markdown",
      "metadata": {
        "_cell_guid": "3bd30250-1894-4fbc-9306-bb2544d5ae10",
        "_uuid": "8ee28a0f484d2e4c6768f3fcd78dd4a017e013fc",
        "id": "WHRHS9FCRhRY",
        "colab_type": "text"
      },
      "source": [
        "The score comes similar to what we had for SVM. This technique can be used to finetune xgboost or even multinomial naive bayes as below. We will use the tfidf data here:"
      ]
    },
    {
      "cell_type": "code",
      "metadata": {
        "_cell_guid": "444bb821-e8ce-4efd-ab5c-cdb457a438a0",
        "_uuid": "154fb55edb63f5d0c70471a27b2baaa3fa373efa",
        "trusted": false,
        "id": "ScBkGLQdRhRY",
        "colab_type": "code",
        "colab": {}
      },
      "source": [
        "nb_model = MultinomialNB()\n",
        "\n",
        "# Create the pipeline \n",
        "clf = pipeline.Pipeline([('nb', nb_model)])\n",
        "\n",
        "# parameter grid\n",
        "param_grid = {'nb__alpha': [0.001, 0.01, 0.1, 1, 10, 100]}\n",
        "\n",
        "# Initialize Grid Search Model\n",
        "model = GridSearchCV(estimator=clf, param_grid=param_grid, scoring=mll_scorer,\n",
        "                                 verbose=10, n_jobs=-1, iid=True, refit=True, cv=2)\n",
        "\n",
        "# Fit Grid Search Model\n",
        "model.fit(xtrain_tfv, ytrain)  # we can use the full data here but im only using xtrain. \n",
        "print(\"Best score: %0.3f\" % model.best_score_)\n",
        "print(\"Best parameters set:\")\n",
        "best_parameters = model.best_estimator_.get_params()\n",
        "for param_name in sorted(param_grid.keys()):\n",
        "    print(\"\\t%s: %r\" % (param_name, best_parameters[param_name]))"
      ],
      "execution_count": 0,
      "outputs": []
    },
    {
      "cell_type": "markdown",
      "metadata": {
        "_cell_guid": "01cee065-8733-44d6-b348-7124e178c6e5",
        "_uuid": "ecd0f67a617ae3c03f2386dd722be343c2384ff3",
        "id": "tAOmAJXSRhRd",
        "colab_type": "text"
      },
      "source": [
        "This is an improvement of 8% over the original naive bayes score!\n",
        "\n",
        "In NLP problems, it's customary to look at word vectors. Word vectors give a lot of insights about the data. Let's dive into that.\n",
        "\n",
        "## Word Vectors\n",
        "\n",
        "Without going into too much details, I would explain how to create sentence vectors and how can we use them to create a machine learning model on top of it. I am a fan of GloVe vectors, word2vec and fasttext. In this post, I'll be using the GloVe vectors. You can download the GloVe vectors from here `http://nlp.stanford.edu/data/glove.6B.zip`"
      ]
    },
    {
      "cell_type": "code",
      "metadata": {
        "id": "Hz-eAytt3z1a",
        "colab_type": "code",
        "colab": {
          "base_uri": "https://localhost:8080/",
          "height": 357
        },
        "outputId": "5ef39a49-b97c-4bf0-d061-9b00a1141765"
      },
      "source": [
        "#!wget = http://www-nlp.stanford.edu/data/glove.840B.300d.zip\n",
        "!wget http://nlp.stanford.edu/data/glove.6B.zip\n"
      ],
      "execution_count": 44,
      "outputs": [
        {
          "output_type": "stream",
          "text": [
            "--2020-06-16 21:24:37--  http://nlp.stanford.edu/data/glove.6B.zip\n",
            "Resolving nlp.stanford.edu (nlp.stanford.edu)... 171.64.67.140\n",
            "Connecting to nlp.stanford.edu (nlp.stanford.edu)|171.64.67.140|:80... connected.\n",
            "HTTP request sent, awaiting response... 302 Found\n",
            "Location: https://nlp.stanford.edu/data/glove.6B.zip [following]\n",
            "--2020-06-16 21:24:37--  https://nlp.stanford.edu/data/glove.6B.zip\n",
            "Connecting to nlp.stanford.edu (nlp.stanford.edu)|171.64.67.140|:443... connected.\n",
            "HTTP request sent, awaiting response... 301 Moved Permanently\n",
            "Location: http://downloads.cs.stanford.edu/nlp/data/glove.6B.zip [following]\n",
            "--2020-06-16 21:24:38--  http://downloads.cs.stanford.edu/nlp/data/glove.6B.zip\n",
            "Resolving downloads.cs.stanford.edu (downloads.cs.stanford.edu)... 171.64.64.22\n",
            "Connecting to downloads.cs.stanford.edu (downloads.cs.stanford.edu)|171.64.64.22|:80... connected.\n",
            "HTTP request sent, awaiting response... 200 OK\n",
            "Length: 862182613 (822M) [application/zip]\n",
            "Saving to: ‘glove.6B.zip’\n",
            "\n",
            "glove.6B.zip        100%[===================>] 822.24M  2.22MB/s    in 6m 31s  \n",
            "\n",
            "2020-06-16 21:31:09 (2.11 MB/s) - ‘glove.6B.zip’ saved [862182613/862182613]\n",
            "\n"
          ],
          "name": "stdout"
        }
      ]
    },
    {
      "cell_type": "code",
      "metadata": {
        "id": "CtnNLyGC8YfE",
        "colab_type": "code",
        "colab": {
          "base_uri": "https://localhost:8080/",
          "height": 102
        },
        "outputId": "f598b1eb-cf6e-4297-a489-f1933ad76d63"
      },
      "source": [
        "#!unzip glove.840B.300d.zip\n",
        "!unzip glove.6B.zip"
      ],
      "execution_count": 45,
      "outputs": [
        {
          "output_type": "stream",
          "text": [
            "Archive:  glove.6B.zip\n",
            "  inflating: glove.6B.50d.txt        \n",
            "  inflating: glove.6B.100d.txt       \n",
            "  inflating: glove.6B.200d.txt       \n",
            "  inflating: glove.6B.300d.txt       \n"
          ],
          "name": "stdout"
        }
      ]
    },
    {
      "cell_type": "code",
      "metadata": {
        "id": "k3LwARpQALmK",
        "colab_type": "code",
        "colab": {
          "base_uri": "https://localhost:8080/",
          "height": 51
        },
        "outputId": "fd3e16fa-1069-4786-9913-c91524fee4ca"
      },
      "source": [
        "import os;\n",
        "glove_dir = './'\n",
        "\n",
        "embeddings_index = {} #initialize dictionary\n",
        "f = open(os.path.join(glove_dir, 'glove.6B.300d.txt'))\n",
        "for line in tqdm(f):\n",
        "    values = line.split()\n",
        "    word = values[0]\n",
        "    coefs = np.asarray(values[1:], dtype='float32')\n",
        "    embeddings_index[word] = coefs\n",
        "f.close()\n",
        "\n",
        "print('Found %s word vectors.' % len(embeddings_index))"
      ],
      "execution_count": 47,
      "outputs": [
        {
          "output_type": "stream",
          "text": [
            "400000it [00:35, 11379.44it/s]"
          ],
          "name": "stderr"
        },
        {
          "output_type": "stream",
          "text": [
            "Found 400000 word vectors.\n"
          ],
          "name": "stdout"
        },
        {
          "output_type": "stream",
          "text": [
            "\n"
          ],
          "name": "stderr"
        }
      ]
    },
    {
      "cell_type": "code",
      "metadata": {
        "_cell_guid": "fe4e61d9-28d9-4171-a589-b1effaaa1116",
        "_uuid": "a7445bd63a857a4619043f8916384d038a9f5c54",
        "trusted": false,
        "id": "8D91OJx1RhRg",
        "colab_type": "code",
        "colab": {}
      },
      "source": [
        "# this function creates a normalized vector for the whole sentence\n",
        "def sent2vec(s):\n",
        "    #words = str(s).lower().decode('utf-8')\n",
        "    words = str(s).lower()\n",
        "    words = word_tokenize(words)\n",
        "    words = [w for w in words if not w in stop_words]\n",
        "    words = [w for w in words if w.isalpha()]\n",
        "    M = []\n",
        "    for w in words:\n",
        "        try:\n",
        "            M.append(embeddings_index[w])\n",
        "        except:\n",
        "            continue\n",
        "    M = np.array(M)\n",
        "    v = M.sum(axis=0)\n",
        "    if type(v) != np.ndarray:\n",
        "        return np.zeros(300)\n",
        "    return v / np.sqrt((v ** 2).sum())"
      ],
      "execution_count": 0,
      "outputs": []
    },
    {
      "cell_type": "code",
      "metadata": {
        "_cell_guid": "e79158dc-eb32-416a-ae91-d38612fca82f",
        "_uuid": "c45f5aeb64f55b6affa932b2f0048b058264518e",
        "trusted": false,
        "id": "3dCgRm4aRhRj",
        "colab_type": "code",
        "colab": {}
      },
      "source": [
        "# create sentence vectors using the above function for training and validation set\n",
        "nltk.download('punkt')\n",
        "xtrain_glove = [sent2vec(x) for x in tqdm(xtrain)]\n",
        "xvalid_glove = [sent2vec(x) for x in tqdm(xvalid)]"
      ],
      "execution_count": 0,
      "outputs": []
    },
    {
      "cell_type": "code",
      "metadata": {
        "_cell_guid": "ac1c5c55-a5ca-4f1f-a5cc-ff0964f887d8",
        "_uuid": "e25a2275ca165dc4e90589f4778c9b84585448a1",
        "trusted": false,
        "id": "IFDTWFfvRhRl",
        "colab_type": "code",
        "colab": {}
      },
      "source": [
        "xtrain_glove = np.array(xtrain_glove)\n",
        "xvalid_glove = np.array(xvalid_glove)"
      ],
      "execution_count": 0,
      "outputs": []
    },
    {
      "cell_type": "markdown",
      "metadata": {
        "_cell_guid": "9f2b9d5f-d31c-4ed2-ba7f-43833bd63ddd",
        "_uuid": "a295bf47c480c9112dee20e5691594b379f4512e",
        "id": "cY771B5JRhRp",
        "colab_type": "text"
      },
      "source": [
        "Let's see the performance of xgboost on glove features:"
      ]
    },
    {
      "cell_type": "code",
      "metadata": {
        "_cell_guid": "fb5bb25f-eac2-457d-b69d-e236b5d47953",
        "_uuid": "e35e50e524ae353dda1614c758ff59901e5af23c",
        "trusted": false,
        "id": "iNyGrOn5RhRq",
        "colab_type": "code",
        "colab": {
          "base_uri": "https://localhost:8080/",
          "height": 34
        },
        "outputId": "7d748783-f8c3-4e39-927b-1d880493e724"
      },
      "source": [
        "# Fitting a simple xgboost on glove features\n",
        "clf = xgb.XGBClassifier(nthread=10, silent=False)\n",
        "clf.fit(xtrain_glove, ytrain)\n",
        "predictions = clf.predict_proba(xvalid_glove)\n",
        "print (\"logloss: %0.3f \" % multiclass_logloss(yvalid, predictions))"
      ],
      "execution_count": 56,
      "outputs": [
        {
          "output_type": "stream",
          "text": [
            "logloss: 0.852 \n"
          ],
          "name": "stdout"
        }
      ]
    },
    {
      "cell_type": "code",
      "metadata": {
        "_cell_guid": "41fa545d-0576-4539-bc8c-fb03aef61440",
        "_uuid": "8ab2c7e8eb07e9eb6b7b21d36dcd9b366672cac2",
        "trusted": false,
        "id": "E_CbfMNXRhRt",
        "colab_type": "code",
        "colab": {
          "base_uri": "https://localhost:8080/",
          "height": 34
        },
        "outputId": "a9cddd13-e583-43bb-8340-b00d950c89ee"
      },
      "source": [
        "# Fitting a simple xgboost on glove features\n",
        "clf = xgb.XGBClassifier(max_depth=7, n_estimators=200, colsample_bytree=0.8, \n",
        "                        subsample=0.8, nthread=10, learning_rate=0.1, silent=False)\n",
        "clf.fit(xtrain_glove, ytrain)\n",
        "predictions = clf.predict_proba(xvalid_glove)\n",
        "\n",
        "print (\"logloss: %0.3f \" % multiclass_logloss(yvalid, predictions))"
      ],
      "execution_count": 57,
      "outputs": [
        {
          "output_type": "stream",
          "text": [
            "logloss: 0.764 \n"
          ],
          "name": "stdout"
        }
      ]
    },
    {
      "cell_type": "markdown",
      "metadata": {
        "_cell_guid": "12187a0c-ec9d-46ba-84bb-d99ff9850cf0",
        "_uuid": "f2e77eaf67811c2b8e1465974030f2797ba786ba",
        "id": "w6zZ7zh0RhRw",
        "colab_type": "text"
      },
      "source": [
        "we see that a simple tuning of parameters can improve xgboost score on GloVe features! Believe me you can squeeze a lot more from it.\n",
        "\n",
        "## Deep Learning\n",
        "\n",
        "But this is an era of deep learning! We cant live without training a few neural networks. Here, we will train LSTM and a simple dense network on the GloVe features. Let's start with the dense network first:"
      ]
    },
    {
      "cell_type": "code",
      "metadata": {
        "_cell_guid": "ef1aecb1-2cca-48aa-86f5-ef3f27682924",
        "_uuid": "415001df909a6cdfbb23bd18f042ae98207b736c",
        "trusted": false,
        "id": "XFn9z7T9RhRx",
        "colab_type": "code",
        "colab": {}
      },
      "source": [
        "# scale the data before any neural net:\n",
        "scl = preprocessing.StandardScaler()\n",
        "xtrain_glove_scl = scl.fit_transform(xtrain_glove)\n",
        "xvalid_glove_scl = scl.transform(xvalid_glove)"
      ],
      "execution_count": 0,
      "outputs": []
    },
    {
      "cell_type": "code",
      "metadata": {
        "_cell_guid": "e2848ff6-79c2-428e-a932-d9b0295f1d48",
        "_uuid": "bee826d9cf5afb4524d00a539870fc3cff9b601a",
        "trusted": false,
        "id": "iAi38zjjRhRz",
        "colab_type": "code",
        "colab": {}
      },
      "source": [
        "# we need to binarize the labels for the neural net\n",
        "ytrain_enc = np_utils.to_categorical(ytrain)\n",
        "yvalid_enc = np_utils.to_categorical(yvalid)"
      ],
      "execution_count": 0,
      "outputs": []
    },
    {
      "cell_type": "code",
      "metadata": {
        "_cell_guid": "b544f16b-624d-4b21-998e-aecc94295662",
        "_uuid": "d5294e86eeb398dc97a1ff7f2e09a9d26f5ebe16",
        "trusted": false,
        "id": "r6-NkIYDRhR2",
        "colab_type": "code",
        "colab": {}
      },
      "source": [
        "# create a simple 3 layer sequential neural net\n",
        "model = Sequential()\n",
        "\n",
        "model.add(Dense(300, input_dim=300, activation='relu'))\n",
        "model.add(Dropout(0.2))\n",
        "model.add(BatchNormalization())\n",
        "\n",
        "model.add(Dense(300, activation='relu'))\n",
        "model.add(Dropout(0.3))\n",
        "model.add(BatchNormalization())\n",
        "\n",
        "model.add(Dense(3))\n",
        "model.add(Activation('softmax'))\n",
        "\n",
        "# compile the model\n",
        "model.compile(loss='categorical_crossentropy', optimizer='adam')"
      ],
      "execution_count": 0,
      "outputs": []
    },
    {
      "cell_type": "code",
      "metadata": {
        "_cell_guid": "5c443201-164e-4333-92d2-fea861f77609",
        "_uuid": "b7afdb2c41bb7ffc70a18fc65d403c519193647b",
        "trusted": false,
        "id": "GAkEDWKJRhR8",
        "colab_type": "code",
        "colab": {
          "base_uri": "https://localhost:8080/",
          "height": 221
        },
        "outputId": "539ce087-0389-4939-8146-c4be2dada52d"
      },
      "source": [
        "model.fit(xtrain_glove_scl, y=ytrain_enc, batch_size=64, \n",
        "          epochs=5, verbose=1, \n",
        "          validation_data=(xvalid_glove_scl, yvalid_enc))"
      ],
      "execution_count": 61,
      "outputs": [
        {
          "output_type": "stream",
          "text": [
            "Train on 17621 samples, validate on 1958 samples\n",
            "Epoch 1/5\n",
            "17621/17621 [==============================] - 4s 228us/step - loss: 0.9837 - val_loss: 0.7759\n",
            "Epoch 2/5\n",
            "17621/17621 [==============================] - 2s 106us/step - loss: 0.7608 - val_loss: 0.7566\n",
            "Epoch 3/5\n",
            "17621/17621 [==============================] - 2s 106us/step - loss: 0.6983 - val_loss: 0.7303\n",
            "Epoch 4/5\n",
            "17621/17621 [==============================] - 2s 105us/step - loss: 0.6556 - val_loss: 0.7328\n",
            "Epoch 5/5\n",
            "17621/17621 [==============================] - 2s 106us/step - loss: 0.6170 - val_loss: 0.7203\n"
          ],
          "name": "stdout"
        },
        {
          "output_type": "execute_result",
          "data": {
            "text/plain": [
              "<keras.callbacks.callbacks.History at 0x7f99a0627b38>"
            ]
          },
          "metadata": {
            "tags": []
          },
          "execution_count": 61
        }
      ]
    },
    {
      "cell_type": "markdown",
      "metadata": {
        "_cell_guid": "f8b8a0c2-c086-498c-9663-f83b203af00c",
        "_uuid": "bbbd3b800ad85f9f7b3d964b55812f10323b1262",
        "id": "D2bO2Uy3RhSC",
        "colab_type": "text"
      },
      "source": [
        "You need to keep on tuning the parameters of the neural network, add more layers, increase dropout to get better results. Here, I'm just showing that its fast to implement and run and gets better result than xgboost without any optimization :)\n",
        "\n",
        "To move further, i.e. with LSTMs we need to tokenize the text data"
      ]
    },
    {
      "cell_type": "code",
      "metadata": {
        "_cell_guid": "35e301c1-a17b-476d-a2c3-b606c9088338",
        "_uuid": "9457e2bf1b79db4a7567c1b04755e66b7828d493",
        "trusted": false,
        "id": "7myzEl-ZRhSC",
        "colab_type": "code",
        "colab": {}
      },
      "source": [
        "# using keras tokenizer here\n",
        "token = text.Tokenizer(num_words=None)\n",
        "max_len = 70\n",
        "\n",
        "token.fit_on_texts(list(xtrain) + list(xvalid))\n",
        "xtrain_seq = token.texts_to_sequences(xtrain)\n",
        "xvalid_seq = token.texts_to_sequences(xvalid)\n",
        "\n",
        "# zero pad the sequences\n",
        "xtrain_pad = sequence.pad_sequences(xtrain_seq, maxlen=max_len)\n",
        "xvalid_pad = sequence.pad_sequences(xvalid_seq, maxlen=max_len)\n",
        "\n",
        "word_index = token.word_index"
      ],
      "execution_count": 0,
      "outputs": []
    },
    {
      "cell_type": "code",
      "metadata": {
        "_cell_guid": "9cec8fb1-f218-4d65-aa1c-ab3357cb6b22",
        "_uuid": "63ac5c4c795f45474d263a8e21c01333c2234aa6",
        "trusted": false,
        "id": "PfL9Or_IRhSG",
        "colab_type": "code",
        "colab": {
          "base_uri": "https://localhost:8080/",
          "height": 68
        },
        "outputId": "443e7b39-1b8f-4a4f-c746-596d072b896b"
      },
      "source": [
        "# create an embedding matrix for the words we have in the dataset\n",
        "embedding_matrix = np.zeros((len(word_index) + 1, 300))\n",
        "for word, i in tqdm(word_index.items()):\n",
        "    embedding_vector = embeddings_index.get(word)\n",
        "    if embedding_vector is not None:\n",
        "        embedding_matrix[i] = embedding_vector"
      ],
      "execution_count": 64,
      "outputs": [
        {
          "output_type": "stream",
          "text": [
            "\n",
            "\n",
            "100%|██████████| 25943/25943 [00:00<00:00, 355328.08it/s]\n"
          ],
          "name": "stderr"
        }
      ]
    },
    {
      "cell_type": "code",
      "metadata": {
        "_cell_guid": "7f2fa769-d70e-43ef-b6ce-3b82fccaef32",
        "_uuid": "f978f21365eb8bf6684a70e3ae6fae2e8f4fff1b",
        "trusted": false,
        "id": "kGcahKITRhSK",
        "colab_type": "code",
        "colab": {}
      },
      "source": [
        "# A simple LSTM with glove embeddings and two dense layers\n",
        "model = Sequential()\n",
        "model.add(Embedding(len(word_index) + 1,\n",
        "                     300,\n",
        "                     weights=[embedding_matrix],\n",
        "                     input_length=max_len,\n",
        "                     trainable=False))\n",
        "model.add(SpatialDropout1D(0.3))\n",
        "model.add(LSTM(100, dropout=0.3, recurrent_dropout=0.3))\n",
        "\n",
        "model.add(Dense(1024, activation='relu'))\n",
        "model.add(Dropout(0.8))\n",
        "\n",
        "model.add(Dense(1024, activation='relu'))\n",
        "model.add(Dropout(0.8))\n",
        "\n",
        "model.add(Dense(3))\n",
        "model.add(Activation('softmax'))\n",
        "model.compile(loss='categorical_crossentropy', optimizer='adam')"
      ],
      "execution_count": 0,
      "outputs": []
    },
    {
      "cell_type": "code",
      "metadata": {
        "_cell_guid": "67593280-81e1-44eb-9cd1-198822f316e8",
        "_uuid": "73d8a4dc4d0e245e979d7d142d1b5c7a4057aa7d",
        "trusted": false,
        "id": "TMtWFUpgRhSR",
        "colab_type": "code",
        "colab": {
          "base_uri": "https://localhost:8080/",
          "height": 1000
        },
        "outputId": "eb2f6ffd-568a-47ad-ac0b-ae5ffda9fde9"
      },
      "source": [
        "model.fit(xtrain_pad, y=ytrain_enc, batch_size=512, epochs=100, verbose=1, validation_data=(xvalid_pad, yvalid_enc))"
      ],
      "execution_count": 66,
      "outputs": [
        {
          "output_type": "stream",
          "text": [
            "Train on 17621 samples, validate on 1958 samples\n",
            "Epoch 1/100\n",
            "17621/17621 [==============================] - 8s 450us/step - loss: 1.0764 - val_loss: 0.9882\n",
            "Epoch 2/100\n",
            "17621/17621 [==============================] - 7s 423us/step - loss: 0.9795 - val_loss: 0.8777\n",
            "Epoch 3/100\n",
            "17621/17621 [==============================] - 7s 418us/step - loss: 0.9155 - val_loss: 0.8255\n",
            "Epoch 4/100\n",
            "17621/17621 [==============================] - 7s 420us/step - loss: 0.8827 - val_loss: 0.7919\n",
            "Epoch 5/100\n",
            "17621/17621 [==============================] - 7s 419us/step - loss: 0.8569 - val_loss: 0.7801\n",
            "Epoch 6/100\n",
            "17621/17621 [==============================] - 8s 431us/step - loss: 0.8367 - val_loss: 0.7718\n",
            "Epoch 7/100\n",
            "17621/17621 [==============================] - 7s 412us/step - loss: 0.8201 - val_loss: 0.7488\n",
            "Epoch 8/100\n",
            "17621/17621 [==============================] - 7s 424us/step - loss: 0.7937 - val_loss: 0.7383\n",
            "Epoch 9/100\n",
            "17621/17621 [==============================] - 7s 416us/step - loss: 0.7801 - val_loss: 0.7193\n",
            "Epoch 10/100\n",
            "17621/17621 [==============================] - 7s 425us/step - loss: 0.7694 - val_loss: 0.7036\n",
            "Epoch 11/100\n",
            "17621/17621 [==============================] - 7s 411us/step - loss: 0.7512 - val_loss: 0.6898\n",
            "Epoch 12/100\n",
            "17621/17621 [==============================] - 7s 423us/step - loss: 0.7387 - val_loss: 0.6767\n",
            "Epoch 13/100\n",
            "17621/17621 [==============================] - 7s 415us/step - loss: 0.7199 - val_loss: 0.6669\n",
            "Epoch 14/100\n",
            "17621/17621 [==============================] - 7s 413us/step - loss: 0.7064 - val_loss: 0.6647\n",
            "Epoch 15/100\n",
            "17621/17621 [==============================] - 7s 423us/step - loss: 0.6892 - val_loss: 0.6395\n",
            "Epoch 16/100\n",
            "17621/17621 [==============================] - 8s 426us/step - loss: 0.6734 - val_loss: 0.6360\n",
            "Epoch 17/100\n",
            "17621/17621 [==============================] - 7s 419us/step - loss: 0.6557 - val_loss: 0.6263\n",
            "Epoch 18/100\n",
            "17621/17621 [==============================] - 7s 425us/step - loss: 0.6439 - val_loss: 0.6191\n",
            "Epoch 19/100\n",
            "17621/17621 [==============================] - 8s 429us/step - loss: 0.6339 - val_loss: 0.6242\n",
            "Epoch 20/100\n",
            "17621/17621 [==============================] - 8s 436us/step - loss: 0.6204 - val_loss: 0.6145\n",
            "Epoch 21/100\n",
            "17621/17621 [==============================] - 7s 416us/step - loss: 0.6078 - val_loss: 0.6000\n",
            "Epoch 22/100\n",
            "17621/17621 [==============================] - 7s 418us/step - loss: 0.5988 - val_loss: 0.6007\n",
            "Epoch 23/100\n",
            "17621/17621 [==============================] - 7s 421us/step - loss: 0.5819 - val_loss: 0.6042\n",
            "Epoch 24/100\n",
            "17621/17621 [==============================] - 7s 422us/step - loss: 0.5767 - val_loss: 0.5802\n",
            "Epoch 25/100\n",
            "17621/17621 [==============================] - 7s 415us/step - loss: 0.5598 - val_loss: 0.5844\n",
            "Epoch 26/100\n",
            "17621/17621 [==============================] - 7s 410us/step - loss: 0.5500 - val_loss: 0.5814\n",
            "Epoch 27/100\n",
            "17621/17621 [==============================] - 7s 418us/step - loss: 0.5430 - val_loss: 0.5799\n",
            "Epoch 28/100\n",
            "17621/17621 [==============================] - 8s 426us/step - loss: 0.5307 - val_loss: 0.5775\n",
            "Epoch 29/100\n",
            "17621/17621 [==============================] - 7s 420us/step - loss: 0.5174 - val_loss: 0.5862\n",
            "Epoch 30/100\n",
            "17621/17621 [==============================] - 7s 411us/step - loss: 0.5079 - val_loss: 0.5698\n",
            "Epoch 31/100\n",
            "17621/17621 [==============================] - 8s 426us/step - loss: 0.5033 - val_loss: 0.5855\n",
            "Epoch 32/100\n",
            "17621/17621 [==============================] - 8s 432us/step - loss: 0.4959 - val_loss: 0.5738\n",
            "Epoch 33/100\n",
            "17621/17621 [==============================] - 7s 418us/step - loss: 0.4930 - val_loss: 0.5731\n",
            "Epoch 34/100\n",
            "17621/17621 [==============================] - 7s 423us/step - loss: 0.4784 - val_loss: 0.5780\n",
            "Epoch 35/100\n",
            "17621/17621 [==============================] - 7s 409us/step - loss: 0.4755 - val_loss: 0.5881\n",
            "Epoch 36/100\n",
            "17621/17621 [==============================] - 7s 413us/step - loss: 0.4676 - val_loss: 0.5829\n",
            "Epoch 37/100\n",
            "17621/17621 [==============================] - 7s 423us/step - loss: 0.4592 - val_loss: 0.5694\n",
            "Epoch 38/100\n",
            "17621/17621 [==============================] - 7s 414us/step - loss: 0.4458 - val_loss: 0.5711\n",
            "Epoch 39/100\n",
            "17621/17621 [==============================] - 7s 415us/step - loss: 0.4386 - val_loss: 0.5762\n",
            "Epoch 40/100\n",
            "17621/17621 [==============================] - 7s 419us/step - loss: 0.4329 - val_loss: 0.5679\n",
            "Epoch 41/100\n",
            "17621/17621 [==============================] - 7s 414us/step - loss: 0.4330 - val_loss: 0.5675\n",
            "Epoch 42/100\n",
            "17621/17621 [==============================] - 7s 400us/step - loss: 0.4301 - val_loss: 0.5788\n",
            "Epoch 43/100\n",
            "17621/17621 [==============================] - 7s 415us/step - loss: 0.4269 - val_loss: 0.5672\n",
            "Epoch 44/100\n",
            "17621/17621 [==============================] - 7s 417us/step - loss: 0.4056 - val_loss: 0.5928\n",
            "Epoch 45/100\n",
            "17621/17621 [==============================] - 7s 405us/step - loss: 0.4181 - val_loss: 0.5784\n",
            "Epoch 46/100\n",
            "17621/17621 [==============================] - 7s 415us/step - loss: 0.4070 - val_loss: 0.5672\n",
            "Epoch 47/100\n",
            "17621/17621 [==============================] - 7s 420us/step - loss: 0.4062 - val_loss: 0.5638\n",
            "Epoch 48/100\n",
            "17621/17621 [==============================] - 7s 417us/step - loss: 0.3880 - val_loss: 0.5844\n",
            "Epoch 49/100\n",
            "17621/17621 [==============================] - 7s 398us/step - loss: 0.3850 - val_loss: 0.5703\n",
            "Epoch 50/100\n",
            "17621/17621 [==============================] - 7s 403us/step - loss: 0.3887 - val_loss: 0.6019\n",
            "Epoch 51/100\n",
            "17621/17621 [==============================] - 7s 418us/step - loss: 0.3803 - val_loss: 0.5855\n",
            "Epoch 52/100\n",
            "17621/17621 [==============================] - 7s 412us/step - loss: 0.3792 - val_loss: 0.5808\n",
            "Epoch 53/100\n",
            "17621/17621 [==============================] - 7s 418us/step - loss: 0.3592 - val_loss: 0.5738\n",
            "Epoch 54/100\n",
            "17621/17621 [==============================] - 7s 418us/step - loss: 0.3694 - val_loss: 0.5703\n",
            "Epoch 55/100\n",
            "17621/17621 [==============================] - 7s 418us/step - loss: 0.3618 - val_loss: 0.5859\n",
            "Epoch 56/100\n",
            "17621/17621 [==============================] - 7s 402us/step - loss: 0.3626 - val_loss: 0.5795\n",
            "Epoch 57/100\n",
            "17621/17621 [==============================] - 7s 418us/step - loss: 0.3602 - val_loss: 0.5776\n",
            "Epoch 58/100\n",
            "17621/17621 [==============================] - 7s 407us/step - loss: 0.3601 - val_loss: 0.5803\n",
            "Epoch 59/100\n",
            "17621/17621 [==============================] - 7s 411us/step - loss: 0.3497 - val_loss: 0.5875\n",
            "Epoch 60/100\n",
            "17621/17621 [==============================] - 7s 416us/step - loss: 0.3475 - val_loss: 0.5855\n",
            "Epoch 61/100\n",
            "17621/17621 [==============================] - 7s 409us/step - loss: 0.3373 - val_loss: 0.5913\n",
            "Epoch 62/100\n",
            "17621/17621 [==============================] - 7s 411us/step - loss: 0.3359 - val_loss: 0.5910\n",
            "Epoch 63/100\n",
            "17621/17621 [==============================] - 7s 407us/step - loss: 0.3391 - val_loss: 0.5958\n",
            "Epoch 64/100\n",
            "17621/17621 [==============================] - 7s 418us/step - loss: 0.3363 - val_loss: 0.5993\n",
            "Epoch 65/100\n",
            "17621/17621 [==============================] - 7s 415us/step - loss: 0.3290 - val_loss: 0.6026\n",
            "Epoch 66/100\n",
            "17621/17621 [==============================] - 7s 422us/step - loss: 0.3270 - val_loss: 0.6082\n",
            "Epoch 67/100\n",
            "17621/17621 [==============================] - 7s 422us/step - loss: 0.3267 - val_loss: 0.5949\n",
            "Epoch 68/100\n",
            "17621/17621 [==============================] - 7s 426us/step - loss: 0.3170 - val_loss: 0.6212\n",
            "Epoch 69/100\n",
            "17621/17621 [==============================] - 8s 441us/step - loss: 0.3287 - val_loss: 0.5886\n",
            "Epoch 70/100\n",
            "17621/17621 [==============================] - 7s 412us/step - loss: 0.3107 - val_loss: 0.5864\n",
            "Epoch 71/100\n",
            "17621/17621 [==============================] - 8s 426us/step - loss: 0.3039 - val_loss: 0.6294\n",
            "Epoch 72/100\n",
            "17621/17621 [==============================] - 7s 423us/step - loss: 0.3137 - val_loss: 0.6003\n",
            "Epoch 73/100\n",
            "17621/17621 [==============================] - 7s 421us/step - loss: 0.3021 - val_loss: 0.5983\n",
            "Epoch 74/100\n",
            "17621/17621 [==============================] - 7s 421us/step - loss: 0.3070 - val_loss: 0.6133\n",
            "Epoch 75/100\n",
            "17621/17621 [==============================] - 7s 420us/step - loss: 0.3122 - val_loss: 0.6057\n",
            "Epoch 76/100\n",
            "17621/17621 [==============================] - 7s 416us/step - loss: 0.3035 - val_loss: 0.5976\n",
            "Epoch 77/100\n",
            "17621/17621 [==============================] - 7s 417us/step - loss: 0.2986 - val_loss: 0.6004\n",
            "Epoch 78/100\n",
            "17621/17621 [==============================] - 7s 419us/step - loss: 0.2883 - val_loss: 0.5979\n",
            "Epoch 79/100\n",
            "17621/17621 [==============================] - 7s 420us/step - loss: 0.2934 - val_loss: 0.5976\n",
            "Epoch 80/100\n",
            "17621/17621 [==============================] - 8s 426us/step - loss: 0.2860 - val_loss: 0.5957\n",
            "Epoch 81/100\n",
            "17621/17621 [==============================] - 7s 426us/step - loss: 0.2901 - val_loss: 0.5939\n",
            "Epoch 82/100\n",
            "17621/17621 [==============================] - 7s 420us/step - loss: 0.2812 - val_loss: 0.6082\n",
            "Epoch 83/100\n",
            "17621/17621 [==============================] - 7s 411us/step - loss: 0.2899 - val_loss: 0.6031\n",
            "Epoch 84/100\n",
            "17621/17621 [==============================] - 7s 412us/step - loss: 0.2867 - val_loss: 0.6115\n",
            "Epoch 85/100\n",
            "17621/17621 [==============================] - 8s 436us/step - loss: 0.2808 - val_loss: 0.6077\n",
            "Epoch 86/100\n",
            "17621/17621 [==============================] - 7s 416us/step - loss: 0.2770 - val_loss: 0.6240\n",
            "Epoch 87/100\n",
            "17621/17621 [==============================] - 7s 423us/step - loss: 0.2816 - val_loss: 0.6287\n",
            "Epoch 88/100\n",
            "17621/17621 [==============================] - 7s 420us/step - loss: 0.2758 - val_loss: 0.6147\n",
            "Epoch 89/100\n",
            "17621/17621 [==============================] - 7s 414us/step - loss: 0.2818 - val_loss: 0.6008\n",
            "Epoch 90/100\n",
            "17621/17621 [==============================] - 7s 411us/step - loss: 0.2778 - val_loss: 0.6091\n",
            "Epoch 91/100\n",
            "17621/17621 [==============================] - 8s 426us/step - loss: 0.2769 - val_loss: 0.6144\n",
            "Epoch 92/100\n",
            "17621/17621 [==============================] - 7s 417us/step - loss: 0.2591 - val_loss: 0.6303\n",
            "Epoch 93/100\n",
            "17621/17621 [==============================] - 7s 408us/step - loss: 0.2594 - val_loss: 0.6339\n",
            "Epoch 94/100\n",
            "17621/17621 [==============================] - 7s 406us/step - loss: 0.2723 - val_loss: 0.6112\n",
            "Epoch 95/100\n",
            "17621/17621 [==============================] - 7s 421us/step - loss: 0.2701 - val_loss: 0.6100\n",
            "Epoch 96/100\n",
            "17621/17621 [==============================] - 8s 427us/step - loss: 0.2668 - val_loss: 0.6439\n",
            "Epoch 97/100\n",
            "17621/17621 [==============================] - 7s 413us/step - loss: 0.2565 - val_loss: 0.6342\n",
            "Epoch 98/100\n",
            "17621/17621 [==============================] - 7s 423us/step - loss: 0.2530 - val_loss: 0.6531\n",
            "Epoch 99/100\n",
            "17621/17621 [==============================] - 7s 419us/step - loss: 0.2587 - val_loss: 0.6353\n",
            "Epoch 100/100\n",
            "17621/17621 [==============================] - 7s 415us/step - loss: 0.2549 - val_loss: 0.6325\n"
          ],
          "name": "stdout"
        },
        {
          "output_type": "execute_result",
          "data": {
            "text/plain": [
              "<keras.callbacks.callbacks.History at 0x7f99506c8b70>"
            ]
          },
          "metadata": {
            "tags": []
          },
          "execution_count": 66
        }
      ]
    },
    {
      "cell_type": "markdown",
      "metadata": {
        "_cell_guid": "d84364cd-85de-4106-91e9-7eca06dab718",
        "_uuid": "01aa520c9ef6283a5399d2dd725d917c67d10213",
        "id": "AoEwBvebRhSU",
        "colab_type": "text"
      },
      "source": [
        "We see that the score is now less than 0.5. I ran it for many epochs without stopping at the best but you can use early stopping to stop at the best iteration. How do I use early stopping?\n",
        "\n",
        "well, pretty easy. let's compile the model again:"
      ]
    },
    {
      "cell_type": "code",
      "metadata": {
        "_cell_guid": "953a3e6f-0052-4f71-9697-4c3a64846e17",
        "_uuid": "800379d15f6173755b1ec9b2e2d5b5a04509a1b3",
        "trusted": false,
        "id": "26yK0QlCRhSV",
        "colab_type": "code",
        "colab": {
          "base_uri": "https://localhost:8080/",
          "height": 1000
        },
        "outputId": "11f45f54-448c-41ca-962b-63a264925107"
      },
      "source": [
        "# A simple LSTM with glove embeddings and two dense layers\n",
        "model = Sequential()\n",
        "model.add(Embedding(len(word_index) + 1,\n",
        "                     300,\n",
        "                     weights=[embedding_matrix],\n",
        "                     input_length=max_len,\n",
        "                     trainable=False))\n",
        "model.add(SpatialDropout1D(0.3))\n",
        "model.add(LSTM(300, dropout=0.3, recurrent_dropout=0.3))\n",
        "\n",
        "model.add(Dense(1024, activation='relu'))\n",
        "model.add(Dropout(0.8))\n",
        "\n",
        "model.add(Dense(1024, activation='relu'))\n",
        "model.add(Dropout(0.8))\n",
        "\n",
        "model.add(Dense(3))\n",
        "model.add(Activation('softmax'))\n",
        "model.compile(loss='categorical_crossentropy', optimizer='adam')\n",
        "\n",
        "# Fit the model with early stopping callback\n",
        "earlystop = EarlyStopping(monitor='val_loss', min_delta=0, patience=3, verbose=0, mode='auto')\n",
        "model.fit(xtrain_pad, y=ytrain_enc, batch_size=512, epochs=100, \n",
        "          verbose=1, validation_data=(xvalid_pad, yvalid_enc), callbacks=[earlystop])"
      ],
      "execution_count": 67,
      "outputs": [
        {
          "output_type": "stream",
          "text": [
            "Train on 17621 samples, validate on 1958 samples\n",
            "Epoch 1/100\n",
            "17621/17621 [==============================] - 9s 538us/step - loss: 1.0736 - val_loss: 0.9546\n",
            "Epoch 2/100\n",
            "17621/17621 [==============================] - 9s 504us/step - loss: 0.9520 - val_loss: 0.8696\n",
            "Epoch 3/100\n",
            "17621/17621 [==============================] - 9s 503us/step - loss: 0.8984 - val_loss: 0.8239\n",
            "Epoch 4/100\n",
            "17621/17621 [==============================] - 9s 504us/step - loss: 0.8800 - val_loss: 0.8303\n",
            "Epoch 5/100\n",
            "17621/17621 [==============================] - 9s 506us/step - loss: 0.8536 - val_loss: 0.7859\n",
            "Epoch 6/100\n",
            "17621/17621 [==============================] - 9s 504us/step - loss: 0.8300 - val_loss: 0.7631\n",
            "Epoch 7/100\n",
            "17621/17621 [==============================] - 9s 501us/step - loss: 0.8126 - val_loss: 0.7683\n",
            "Epoch 8/100\n",
            "17621/17621 [==============================] - 9s 501us/step - loss: 0.7984 - val_loss: 0.7402\n",
            "Epoch 9/100\n",
            "17621/17621 [==============================] - 9s 499us/step - loss: 0.7758 - val_loss: 0.7125\n",
            "Epoch 10/100\n",
            "17621/17621 [==============================] - 9s 510us/step - loss: 0.7500 - val_loss: 0.7044\n",
            "Epoch 11/100\n",
            "17621/17621 [==============================] - 9s 504us/step - loss: 0.7358 - val_loss: 0.6749\n",
            "Epoch 12/100\n",
            "17621/17621 [==============================] - 9s 500us/step - loss: 0.7144 - val_loss: 0.6611\n",
            "Epoch 13/100\n",
            "17621/17621 [==============================] - 9s 506us/step - loss: 0.6923 - val_loss: 0.6312\n",
            "Epoch 14/100\n",
            "17621/17621 [==============================] - 9s 500us/step - loss: 0.6734 - val_loss: 0.6356\n",
            "Epoch 15/100\n",
            "17621/17621 [==============================] - 9s 498us/step - loss: 0.6549 - val_loss: 0.6192\n",
            "Epoch 16/100\n",
            "17621/17621 [==============================] - 9s 501us/step - loss: 0.6377 - val_loss: 0.5974\n",
            "Epoch 17/100\n",
            "17621/17621 [==============================] - 9s 501us/step - loss: 0.6190 - val_loss: 0.6017\n",
            "Epoch 18/100\n",
            "17621/17621 [==============================] - 9s 506us/step - loss: 0.6026 - val_loss: 0.5977\n",
            "Epoch 19/100\n",
            "17621/17621 [==============================] - 9s 494us/step - loss: 0.5848 - val_loss: 0.5847\n",
            "Epoch 20/100\n",
            "17621/17621 [==============================] - 9s 507us/step - loss: 0.5714 - val_loss: 0.5788\n",
            "Epoch 21/100\n",
            "17621/17621 [==============================] - 9s 497us/step - loss: 0.5573 - val_loss: 0.5668\n",
            "Epoch 22/100\n",
            "17621/17621 [==============================] - 9s 494us/step - loss: 0.5357 - val_loss: 0.5639\n",
            "Epoch 23/100\n",
            "17621/17621 [==============================] - 9s 495us/step - loss: 0.5288 - val_loss: 0.5604\n",
            "Epoch 24/100\n",
            "17621/17621 [==============================] - 9s 503us/step - loss: 0.5071 - val_loss: 0.5538\n",
            "Epoch 25/100\n",
            "17621/17621 [==============================] - 9s 505us/step - loss: 0.4883 - val_loss: 0.5684\n",
            "Epoch 26/100\n",
            "17621/17621 [==============================] - 9s 497us/step - loss: 0.4909 - val_loss: 0.5513\n",
            "Epoch 27/100\n",
            "17621/17621 [==============================] - 9s 506us/step - loss: 0.4666 - val_loss: 0.5473\n",
            "Epoch 28/100\n",
            "17621/17621 [==============================] - 9s 501us/step - loss: 0.4632 - val_loss: 0.5466\n",
            "Epoch 29/100\n",
            "17621/17621 [==============================] - 9s 503us/step - loss: 0.4477 - val_loss: 0.5615\n",
            "Epoch 30/100\n",
            "17621/17621 [==============================] - 9s 504us/step - loss: 0.4305 - val_loss: 0.5581\n",
            "Epoch 31/100\n",
            "17621/17621 [==============================] - 9s 499us/step - loss: 0.4182 - val_loss: 0.5510\n"
          ],
          "name": "stdout"
        },
        {
          "output_type": "execute_result",
          "data": {
            "text/plain": [
              "<keras.callbacks.callbacks.History at 0x7f994ff2aeb8>"
            ]
          },
          "metadata": {
            "tags": []
          },
          "execution_count": 67
        }
      ]
    },
    {
      "cell_type": "markdown",
      "metadata": {
        "_cell_guid": "bf4c30e8-de2f-4787-b5ac-07a22089518e",
        "_uuid": "c2a05818abc8c70e3a8c4ab7118d3815a0b07147",
        "id": "igfhhdpGRhSZ",
        "colab_type": "text"
      },
      "source": [
        "One question could be: why do i use so much dropout? Well, fit the model with no or little dropout and you will that it starts to overfit :)\n",
        "\n",
        "Let's see if Bi-directional LSTM can give us better results. Its a piece of cake to do it with Keras :)"
      ]
    },
    {
      "cell_type": "code",
      "metadata": {
        "_cell_guid": "51093329-081b-48d7-b29c-28a0b99f038f",
        "_uuid": "be091fd7888ef0239d7c76536e6a430ca3edca88",
        "trusted": false,
        "id": "sBx6p4HORhSa",
        "colab_type": "code",
        "colab": {
          "base_uri": "https://localhost:8080/",
          "height": 1000
        },
        "outputId": "b995ce47-9bbd-46fe-fe15-a582f121de8b"
      },
      "source": [
        "# A simple bidirectional LSTM with glove embeddings and two dense layers\n",
        "model = Sequential()\n",
        "model.add(Embedding(len(word_index) + 1,\n",
        "                     300,\n",
        "                     weights=[embedding_matrix],\n",
        "                     input_length=max_len,\n",
        "                     trainable=False))\n",
        "model.add(SpatialDropout1D(0.3))\n",
        "model.add(Bidirectional(LSTM(300, dropout=0.3, recurrent_dropout=0.3)))\n",
        "\n",
        "model.add(Dense(1024, activation='relu'))\n",
        "model.add(Dropout(0.8))\n",
        "\n",
        "model.add(Dense(1024, activation='relu'))\n",
        "model.add(Dropout(0.8))\n",
        "\n",
        "model.add(Dense(3))\n",
        "model.add(Activation('softmax'))\n",
        "model.compile(loss='categorical_crossentropy', optimizer='adam')\n",
        "\n",
        "# Fit the model with early stopping callback\n",
        "earlystop = EarlyStopping(monitor='val_loss', min_delta=0, patience=3, verbose=0, mode='auto')\n",
        "model.fit(xtrain_pad, y=ytrain_enc, batch_size=512, epochs=100, \n",
        "          verbose=1, validation_data=(xvalid_pad, yvalid_enc), callbacks=[earlystop])"
      ],
      "execution_count": 68,
      "outputs": [
        {
          "output_type": "stream",
          "text": [
            "Train on 17621 samples, validate on 1958 samples\n",
            "Epoch 1/100\n",
            "17621/17621 [==============================] - 18s 1ms/step - loss: 1.0725 - val_loss: 0.9531\n",
            "Epoch 2/100\n",
            "17621/17621 [==============================] - 17s 950us/step - loss: 0.9393 - val_loss: 0.8270\n",
            "Epoch 3/100\n",
            "17621/17621 [==============================] - 17s 963us/step - loss: 0.8892 - val_loss: 0.8130\n",
            "Epoch 4/100\n",
            "17621/17621 [==============================] - 17s 977us/step - loss: 0.8635 - val_loss: 0.7821\n",
            "Epoch 5/100\n",
            "17621/17621 [==============================] - 17s 962us/step - loss: 0.8396 - val_loss: 0.7663\n",
            "Epoch 6/100\n",
            "17621/17621 [==============================] - 17s 969us/step - loss: 0.8207 - val_loss: 0.7505\n",
            "Epoch 7/100\n",
            "17621/17621 [==============================] - 17s 979us/step - loss: 0.7979 - val_loss: 0.7322\n",
            "Epoch 8/100\n",
            "17621/17621 [==============================] - 17s 968us/step - loss: 0.7816 - val_loss: 0.7230\n",
            "Epoch 9/100\n",
            "17621/17621 [==============================] - 17s 963us/step - loss: 0.7538 - val_loss: 0.6900\n",
            "Epoch 10/100\n",
            "17621/17621 [==============================] - 17s 968us/step - loss: 0.7412 - val_loss: 0.6902\n",
            "Epoch 11/100\n",
            "17621/17621 [==============================] - 17s 966us/step - loss: 0.7223 - val_loss: 0.6742\n",
            "Epoch 12/100\n",
            "17621/17621 [==============================] - 17s 977us/step - loss: 0.7010 - val_loss: 0.6528\n",
            "Epoch 13/100\n",
            "17621/17621 [==============================] - 17s 970us/step - loss: 0.6764 - val_loss: 0.6324\n",
            "Epoch 14/100\n",
            "17621/17621 [==============================] - 17s 980us/step - loss: 0.6609 - val_loss: 0.6315\n",
            "Epoch 15/100\n",
            "17621/17621 [==============================] - 17s 977us/step - loss: 0.6424 - val_loss: 0.6161\n",
            "Epoch 16/100\n",
            "17621/17621 [==============================] - 17s 970us/step - loss: 0.6253 - val_loss: 0.6087\n",
            "Epoch 17/100\n",
            "17621/17621 [==============================] - 17s 973us/step - loss: 0.6073 - val_loss: 0.5819\n",
            "Epoch 18/100\n",
            "17621/17621 [==============================] - 17s 981us/step - loss: 0.5928 - val_loss: 0.5875\n",
            "Epoch 19/100\n",
            "17621/17621 [==============================] - 17s 953us/step - loss: 0.5818 - val_loss: 0.5723\n",
            "Epoch 20/100\n",
            "17621/17621 [==============================] - 17s 948us/step - loss: 0.5603 - val_loss: 0.5724\n",
            "Epoch 21/100\n",
            "17621/17621 [==============================] - 17s 973us/step - loss: 0.5373 - val_loss: 0.5663\n",
            "Epoch 22/100\n",
            "17621/17621 [==============================] - 17s 964us/step - loss: 0.5294 - val_loss: 0.5702\n",
            "Epoch 23/100\n",
            "17621/17621 [==============================] - 17s 974us/step - loss: 0.5093 - val_loss: 0.5699\n",
            "Epoch 24/100\n",
            "17621/17621 [==============================] - 17s 961us/step - loss: 0.5029 - val_loss: 0.5575\n",
            "Epoch 25/100\n",
            "17621/17621 [==============================] - 17s 961us/step - loss: 0.4899 - val_loss: 0.5602\n",
            "Epoch 26/100\n",
            "17621/17621 [==============================] - 17s 978us/step - loss: 0.4741 - val_loss: 0.5486\n",
            "Epoch 27/100\n",
            "17621/17621 [==============================] - 17s 971us/step - loss: 0.4593 - val_loss: 0.5638\n",
            "Epoch 28/100\n",
            "17621/17621 [==============================] - 17s 969us/step - loss: 0.4513 - val_loss: 0.5599\n",
            "Epoch 29/100\n",
            "17621/17621 [==============================] - 17s 968us/step - loss: 0.4349 - val_loss: 0.5424\n",
            "Epoch 30/100\n",
            "17621/17621 [==============================] - 17s 982us/step - loss: 0.4154 - val_loss: 0.5693\n",
            "Epoch 31/100\n",
            "17621/17621 [==============================] - 17s 984us/step - loss: 0.3995 - val_loss: 0.5671\n",
            "Epoch 32/100\n",
            "17621/17621 [==============================] - 17s 972us/step - loss: 0.3972 - val_loss: 0.5455\n"
          ],
          "name": "stdout"
        },
        {
          "output_type": "execute_result",
          "data": {
            "text/plain": [
              "<keras.callbacks.callbacks.History at 0x7f994fa1ecf8>"
            ]
          },
          "metadata": {
            "tags": []
          },
          "execution_count": 68
        }
      ]
    },
    {
      "cell_type": "markdown",
      "metadata": {
        "_cell_guid": "69875648-b716-457a-8db8-bcf625d7d3bf",
        "_uuid": "a1019cf81782debe55d16d55d90b4e1bc3076176",
        "id": "8FE-IBDdRhSh",
        "colab_type": "text"
      },
      "source": [
        "Pretty close! Lets try two layers of GRU:"
      ]
    },
    {
      "cell_type": "code",
      "metadata": {
        "_cell_guid": "e427650c-11e9-422b-9e06-45e353721857",
        "_uuid": "5196303d6875a3d1cd9432631a6a0ecfe0be4d3f",
        "trusted": false,
        "id": "dbpvSUVPRhSi",
        "colab_type": "code",
        "colab": {
          "base_uri": "https://localhost:8080/",
          "height": 187
        },
        "outputId": "6cc2a18a-5b87-48e9-fa3e-53f4585dfedb"
      },
      "source": [
        "# GRU with glove embeddings and two dense layers\n",
        "model = Sequential()\n",
        "model.add(Embedding(len(word_index) + 1,\n",
        "                     300,\n",
        "                     weights=[embedding_matrix],\n",
        "                     input_length=max_len,\n",
        "                     trainable=False))\n",
        "model.add(SpatialDropout1D(0.3))\n",
        "model.add(GRU(300, dropout=0.3, recurrent_dropout=0.3, return_sequences=True))\n",
        "model.add(GRU(300, dropout=0.3, recurrent_dropout=0.3))\n",
        "\n",
        "model.add(Dense(1024, activation='relu'))\n",
        "model.add(Dropout(0.8))\n",
        "\n",
        "model.add(Dense(1024, activation='relu'))\n",
        "model.add(Dropout(0.8))\n",
        "\n",
        "model.add(Dense(3))\n",
        "model.add(Activation('softmax'))\n",
        "model.compile(loss='categorical_crossentropy', optimizer='adam')\n",
        "\n",
        "# Fit the model with early stopping callback\n",
        "earlystop = EarlyStopping(monitor='val_loss', min_delta=0, patience=3, verbose=0, mode='auto')\n",
        "model.fit(xtrain_pad, y=ytrain_enc, batch_size=512, epochs=100, \n",
        "          verbose=1, validation_data=(xvalid_pad, yvalid_enc), callbacks=[earlystop])"
      ],
      "execution_count": 70,
      "outputs": [
        {
          "output_type": "stream",
          "text": [
            "Train on 17621 samples, validate on 1958 samples\n",
            "Epoch 1/100\n",
            "17621/17621 [==============================] - 22s 1ms/step - loss: 286075.4903 - val_loss: 1.1025\n",
            "Epoch 2/100\n",
            "17621/17621 [==============================] - 21s 1ms/step - loss: 16962.6146 - val_loss: 1.1117\n",
            "Epoch 3/100\n",
            "17621/17621 [==============================] - 21s 1ms/step - loss: 1355.9929 - val_loss: 1.1118\n",
            "Epoch 4/100\n",
            "17621/17621 [==============================] - 21s 1ms/step - loss: 634.1982 - val_loss: 1.1073\n"
          ],
          "name": "stdout"
        },
        {
          "output_type": "execute_result",
          "data": {
            "text/plain": [
              "<keras.callbacks.callbacks.History at 0x7f994ec79da0>"
            ]
          },
          "metadata": {
            "tags": []
          },
          "execution_count": 70
        }
      ]
    },
    {
      "cell_type": "markdown",
      "metadata": {
        "_cell_guid": "aeb72e91-0b0c-449e-a41b-5d2c1e6a6f26",
        "_uuid": "dfcac382d1c84f19ca12fa3a590ef2c67a30af75",
        "id": "1Ek9ceJTRhSl",
        "colab_type": "text"
      },
      "source": [
        "Nice! Much better than what we had previously! Keep optimizing and the performance will keep improving.\n",
        "Worth trying: stemming and lemmatization. This is something I'm skipping for now.\n",
        "\n",
        "In the Kaggle world, to get a top score you should have an ensemble of models. Let's check a little bit of ensembling!\n",
        "\n",
        "\n",
        "## Ensembling\n",
        "\n",
        "Few months back I made a simple ensembler but I didn't have time to develop it fully. It can be found here: https://github.com/abhishekkrthakur/pysembler . I'm going to use some part of it here:"
      ]
    },
    {
      "cell_type": "code",
      "metadata": {
        "_cell_guid": "074b6b36-c419-4be4-b419-66e00b247f5e",
        "_uuid": "051f7ed5cbace1a16ad6a355bc50293ce13ee5f4",
        "trusted": false,
        "id": "y52PVPiQRhSm",
        "colab_type": "code",
        "colab": {}
      },
      "source": [
        "# this is the main ensembling class. how to use it is in the next cell!\n",
        "import numpy as np\n",
        "from sklearn.metrics import roc_auc_score\n",
        "from sklearn.preprocessing import LabelEncoder\n",
        "from sklearn.model_selection import StratifiedKFold, KFold\n",
        "import pandas as pd\n",
        "import os\n",
        "import sys\n",
        "import logging\n",
        "\n",
        "logging.basicConfig(\n",
        "    level=logging.DEBUG,\n",
        "    format=\"[%(asctime)s] %(levelname)s %(message)s\",\n",
        "    datefmt=\"%H:%M:%S\", stream=sys.stdout)\n",
        "logger = logging.getLogger(__name__)\n",
        "\n",
        "\n",
        "class Ensembler(object):\n",
        "    def __init__(self, model_dict, num_folds=3, task_type='classification', optimize=roc_auc_score,\n",
        "                 lower_is_better=False, save_path=None):\n",
        "        \"\"\"\n",
        "        Ensembler init function\n",
        "        :param model_dict: model dictionary, see README for its format\n",
        "        :param num_folds: the number of folds for ensembling\n",
        "        :param task_type: classification or regression\n",
        "        :param optimize: the function to optimize for, e.g. AUC, logloss, etc. Must have two arguments y_test and y_pred\n",
        "        :param lower_is_better: is lower value of optimization function better or higher\n",
        "        :param save_path: path to which model pickles will be dumped to along with generated predictions, or None\n",
        "        \"\"\"\n",
        "\n",
        "        self.model_dict = model_dict\n",
        "        self.levels = len(self.model_dict)\n",
        "        self.num_folds = num_folds\n",
        "        self.task_type = task_type\n",
        "        self.optimize = optimize\n",
        "        self.lower_is_better = lower_is_better\n",
        "        self.save_path = save_path\n",
        "\n",
        "        self.training_data = None\n",
        "        self.test_data = None\n",
        "        self.y = None\n",
        "        self.lbl_enc = None\n",
        "        self.y_enc = None\n",
        "        self.train_prediction_dict = None\n",
        "        self.test_prediction_dict = None\n",
        "        self.num_classes = None\n",
        "\n",
        "    def fit(self, training_data, y, lentrain):\n",
        "        \"\"\"\n",
        "        :param training_data: training data in tabular format\n",
        "        :param y: binary, multi-class or regression\n",
        "        :return: chain of models to be used in prediction\n",
        "        \"\"\"\n",
        "\n",
        "        self.training_data = training_data\n",
        "        self.y = y\n",
        "\n",
        "        if self.task_type == 'classification':\n",
        "            self.num_classes = len(np.unique(self.y))\n",
        "            logger.info(\"Found %d classes\", self.num_classes)\n",
        "            self.lbl_enc = LabelEncoder()\n",
        "            self.y_enc = self.lbl_enc.fit_transform(self.y)\n",
        "            kf = StratifiedKFold(n_splits=self.num_folds)\n",
        "            train_prediction_shape = (lentrain, self.num_classes)\n",
        "        else:\n",
        "            self.num_classes = -1\n",
        "            self.y_enc = self.y\n",
        "            kf = KFold(n_splits=self.num_folds)\n",
        "            train_prediction_shape = (lentrain, 1)\n",
        "\n",
        "        self.train_prediction_dict = {}\n",
        "        for level in range(self.levels):\n",
        "            self.train_prediction_dict[level] = np.zeros((train_prediction_shape[0],\n",
        "                                                          train_prediction_shape[1] * len(self.model_dict[level])))\n",
        "\n",
        "        for level in range(self.levels):\n",
        "\n",
        "            if level == 0:\n",
        "                temp_train = self.training_data\n",
        "            else:\n",
        "                temp_train = self.train_prediction_dict[level - 1]\n",
        "\n",
        "            for model_num, model in enumerate(self.model_dict[level]):\n",
        "                validation_scores = []\n",
        "                foldnum = 1\n",
        "                for train_index, valid_index in kf.split(self.train_prediction_dict[0], self.y_enc):\n",
        "                    logger.info(\"Training Level %d Fold # %d. Model # %d\", level, foldnum, model_num)\n",
        "\n",
        "                    if level != 0:\n",
        "                        l_training_data = temp_train[train_index]\n",
        "                        l_validation_data = temp_train[valid_index]\n",
        "                        model.fit(l_training_data, self.y_enc[train_index])\n",
        "                    else:\n",
        "                        l0_training_data = temp_train[0][model_num]\n",
        "                        if type(l0_training_data) == list:\n",
        "                            l_training_data = [x[train_index] for x in l0_training_data]\n",
        "                            l_validation_data = [x[valid_index] for x in l0_training_data]\n",
        "                        else:\n",
        "                            l_training_data = l0_training_data[train_index]\n",
        "                            l_validation_data = l0_training_data[valid_index]\n",
        "                        model.fit(l_training_data, self.y_enc[train_index])\n",
        "\n",
        "                    logger.info(\"Predicting Level %d. Fold # %d. Model # %d\", level, foldnum, model_num)\n",
        "\n",
        "                    if self.task_type == 'classification':\n",
        "                        temp_train_predictions = model.predict_proba(l_validation_data)\n",
        "                        self.train_prediction_dict[level][valid_index,\n",
        "                        (model_num * self.num_classes):(model_num * self.num_classes) +\n",
        "                                                       self.num_classes] = temp_train_predictions\n",
        "\n",
        "                    else:\n",
        "                        temp_train_predictions = model.predict(l_validation_data)\n",
        "                        self.train_prediction_dict[level][valid_index, model_num] = temp_train_predictions\n",
        "                    validation_score = self.optimize(self.y_enc[valid_index], temp_train_predictions)\n",
        "                    validation_scores.append(validation_score)\n",
        "                    logger.info(\"Level %d. Fold # %d. Model # %d. Validation Score = %f\", level, foldnum, model_num,\n",
        "                                validation_score)\n",
        "                    foldnum += 1\n",
        "                avg_score = np.mean(validation_scores)\n",
        "                std_score = np.std(validation_scores)\n",
        "                logger.info(\"Level %d. Model # %d. Mean Score = %f. Std Dev = %f\", level, model_num,\n",
        "                            avg_score, std_score)\n",
        "\n",
        "            logger.info(\"Saving predictions for level # %d\", level)\n",
        "            train_predictions_df = pd.DataFrame(self.train_prediction_dict[level])\n",
        "            train_predictions_df.to_csv(os.path.join(self.save_path, \"train_predictions_level_\" + str(level) + \".csv\"),\n",
        "                                        index=False, header=None)\n",
        "\n",
        "        return self.train_prediction_dict\n",
        "\n",
        "    def predict(self, test_data, lentest):\n",
        "        self.test_data = test_data\n",
        "        if self.task_type == 'classification':\n",
        "            test_prediction_shape = (lentest, self.num_classes)\n",
        "        else:\n",
        "            test_prediction_shape = (lentest, 1)\n",
        "\n",
        "        self.test_prediction_dict = {}\n",
        "        for level in range(self.levels):\n",
        "            self.test_prediction_dict[level] = np.zeros((test_prediction_shape[0],\n",
        "                                                         test_prediction_shape[1] * len(self.model_dict[level])))\n",
        "        self.test_data = test_data\n",
        "        for level in range(self.levels):\n",
        "            if level == 0:\n",
        "                temp_train = self.training_data\n",
        "                temp_test = self.test_data\n",
        "            else:\n",
        "                temp_train = self.train_prediction_dict[level - 1]\n",
        "                temp_test = self.test_prediction_dict[level - 1]\n",
        "\n",
        "            for model_num, model in enumerate(self.model_dict[level]):\n",
        "\n",
        "                logger.info(\"Training Fulldata Level %d. Model # %d\", level, model_num)\n",
        "                if level == 0:\n",
        "                    model.fit(temp_train[0][model_num], self.y_enc)\n",
        "                else:\n",
        "                    model.fit(temp_train, self.y_enc)\n",
        "\n",
        "                logger.info(\"Predicting Test Level %d. Model # %d\", level, model_num)\n",
        "\n",
        "                if self.task_type == 'classification':\n",
        "                    if level == 0:\n",
        "                        temp_test_predictions = model.predict_proba(temp_test[0][model_num])\n",
        "                    else:\n",
        "                        temp_test_predictions = model.predict_proba(temp_test)\n",
        "                    self.test_prediction_dict[level][:, (model_num * self.num_classes): (model_num * self.num_classes) +\n",
        "                                                                                        self.num_classes] = temp_test_predictions\n",
        "\n",
        "                else:\n",
        "                    if level == 0:\n",
        "                        temp_test_predictions = model.predict(temp_test[0][model_num])\n",
        "                    else:\n",
        "                        temp_test_predictions = model.predict(temp_test)\n",
        "                    self.test_prediction_dict[level][:, model_num] = temp_test_predictions\n",
        "\n",
        "            test_predictions_df = pd.DataFrame(self.test_prediction_dict[level])\n",
        "            test_predictions_df.to_csv(os.path.join(self.save_path, \"test_predictions_level_\" + str(level) + \".csv\"),\n",
        "                                       index=False, header=None)\n",
        "\n",
        "        return self.test_prediction_dict\n"
      ],
      "execution_count": 0,
      "outputs": []
    },
    {
      "cell_type": "code",
      "metadata": {
        "_cell_guid": "f5498ddf-1cf7-4d67-bdf4-e72d3c59b664",
        "_uuid": "94587d1b4de2770a35027d24c2184982b7b7a34a",
        "trusted": false,
        "id": "qaOm9YMwRhSu",
        "colab_type": "code",
        "colab": {
          "base_uri": "https://localhost:8080/",
          "height": 1000
        },
        "outputId": "1e90ba2f-ac56-4522-bcd5-e21c41dfc5c2"
      },
      "source": [
        "# specify the data to be used for every level of ensembling:\n",
        "train_data_dict = {0: [xtrain_tfv, xtrain_ctv, xtrain_tfv, xtrain_ctv], 1: [xtrain_glove]}\n",
        "test_data_dict = {0: [xvalid_tfv, xvalid_ctv, xvalid_tfv, xvalid_ctv], 1: [xvalid_glove]}\n",
        "\n",
        "model_dict = {0: [LogisticRegression(), LogisticRegression(), MultinomialNB(alpha=0.1), MultinomialNB()],\n",
        "\n",
        "              1: [xgb.XGBClassifier(silent=True, n_estimators=120, max_depth=7)]}\n",
        "\n",
        "ens = Ensembler(model_dict=model_dict, num_folds=3, task_type='classification',\n",
        "                optimize=multiclass_logloss, lower_is_better=True, save_path='')\n",
        "\n",
        "ens.fit(train_data_dict, ytrain, lentrain=xtrain_glove.shape[0])\n",
        "preds = ens.predict(test_data_dict, lentest=xvalid_glove.shape[0])"
      ],
      "execution_count": 72,
      "outputs": [
        {
          "output_type": "stream",
          "text": [
            "[23:52:47] INFO Found 3 classes\n",
            "[23:52:47] INFO Training Level 0 Fold # 1. Model # 0\n",
            "[23:52:49] INFO Predicting Level 0. Fold # 1. Model # 0\n",
            "[23:52:49] INFO Level 0. Fold # 1. Model # 0. Validation Score = 0.626621\n",
            "[23:52:49] INFO Training Level 0 Fold # 2. Model # 0\n"
          ],
          "name": "stdout"
        },
        {
          "output_type": "stream",
          "text": [
            "/usr/local/lib/python3.6/dist-packages/sklearn/linear_model/_logistic.py:940: ConvergenceWarning: lbfgs failed to converge (status=1):\n",
            "STOP: TOTAL NO. of ITERATIONS REACHED LIMIT.\n",
            "\n",
            "Increase the number of iterations (max_iter) or scale the data as shown in:\n",
            "    https://scikit-learn.org/stable/modules/preprocessing.html\n",
            "Please also refer to the documentation for alternative solver options:\n",
            "    https://scikit-learn.org/stable/modules/linear_model.html#logistic-regression\n",
            "  extra_warning_msg=_LOGISTIC_SOLVER_CONVERGENCE_MSG)\n"
          ],
          "name": "stderr"
        },
        {
          "output_type": "stream",
          "text": [
            "[23:52:51] INFO Predicting Level 0. Fold # 2. Model # 0\n",
            "[23:52:51] INFO Level 0. Fold # 2. Model # 0. Validation Score = 0.616453\n",
            "[23:52:51] INFO Training Level 0 Fold # 3. Model # 0\n",
            "[23:52:52] INFO Predicting Level 0. Fold # 3. Model # 0\n",
            "[23:52:52] INFO Level 0. Fold # 3. Model # 0. Validation Score = 0.619625\n",
            "[23:52:52] INFO Level 0. Model # 0. Mean Score = 0.620900. Std Dev = 0.004248\n",
            "[23:52:52] INFO Training Level 0 Fold # 1. Model # 1\n"
          ],
          "name": "stdout"
        },
        {
          "output_type": "stream",
          "text": [
            "/usr/local/lib/python3.6/dist-packages/sklearn/linear_model/_logistic.py:940: ConvergenceWarning: lbfgs failed to converge (status=1):\n",
            "STOP: TOTAL NO. of ITERATIONS REACHED LIMIT.\n",
            "\n",
            "Increase the number of iterations (max_iter) or scale the data as shown in:\n",
            "    https://scikit-learn.org/stable/modules/preprocessing.html\n",
            "Please also refer to the documentation for alternative solver options:\n",
            "    https://scikit-learn.org/stable/modules/linear_model.html#logistic-regression\n",
            "  extra_warning_msg=_LOGISTIC_SOLVER_CONVERGENCE_MSG)\n"
          ],
          "name": "stderr"
        },
        {
          "output_type": "stream",
          "text": [
            "[23:53:12] INFO Predicting Level 0. Fold # 1. Model # 1\n",
            "[23:53:12] INFO Level 0. Fold # 1. Model # 1. Validation Score = 0.573485\n",
            "[23:53:12] INFO Training Level 0 Fold # 2. Model # 1\n",
            "[23:53:31] INFO Predicting Level 0. Fold # 2. Model # 1\n",
            "[23:53:31] INFO Level 0. Fold # 2. Model # 1. Validation Score = 0.563451\n",
            "[23:53:31] INFO Training Level 0 Fold # 3. Model # 1\n",
            "[23:53:51] INFO Predicting Level 0. Fold # 3. Model # 1\n",
            "[23:53:51] INFO Level 0. Fold # 3. Model # 1. Validation Score = 0.567765\n",
            "[23:53:51] INFO Level 0. Model # 1. Mean Score = 0.568233. Std Dev = 0.004110\n",
            "[23:53:51] INFO Training Level 0 Fold # 1. Model # 2\n",
            "[23:53:51] INFO Predicting Level 0. Fold # 1. Model # 2\n",
            "[23:53:51] INFO Level 0. Fold # 1. Model # 2. Validation Score = 0.463292\n",
            "[23:53:51] INFO Training Level 0 Fold # 2. Model # 2\n",
            "[23:53:51] INFO Predicting Level 0. Fold # 2. Model # 2\n",
            "[23:53:51] INFO Level 0. Fold # 2. Model # 2. Validation Score = 0.456477\n",
            "[23:53:51] INFO Training Level 0 Fold # 3. Model # 2\n",
            "[23:53:51] INFO Predicting Level 0. Fold # 3. Model # 2\n",
            "[23:53:51] INFO Level 0. Fold # 3. Model # 2. Validation Score = 0.461664\n",
            "[23:53:51] INFO Level 0. Model # 2. Mean Score = 0.460478. Std Dev = 0.002906\n",
            "[23:53:51] INFO Training Level 0 Fold # 1. Model # 3\n",
            "[23:53:51] INFO Predicting Level 0. Fold # 1. Model # 3\n",
            "[23:53:51] INFO Level 0. Fold # 1. Model # 3. Validation Score = 0.472378\n",
            "[23:53:51] INFO Training Level 0 Fold # 2. Model # 3\n",
            "[23:53:51] INFO Predicting Level 0. Fold # 2. Model # 3\n",
            "[23:53:51] INFO Level 0. Fold # 2. Model # 3. Validation Score = 0.473229\n",
            "[23:53:51] INFO Training Level 0 Fold # 3. Model # 3\n",
            "[23:53:51] INFO Predicting Level 0. Fold # 3. Model # 3\n",
            "[23:53:51] INFO Level 0. Fold # 3. Model # 3. Validation Score = 0.479033\n",
            "[23:53:51] INFO Level 0. Model # 3. Mean Score = 0.474880. Std Dev = 0.002957\n",
            "[23:53:51] INFO Saving predictions for level # 0\n",
            "[23:53:52] INFO Training Level 1 Fold # 1. Model # 0\n",
            "[23:54:01] INFO Predicting Level 1. Fold # 1. Model # 0\n",
            "[23:54:01] INFO Level 1. Fold # 1. Model # 0. Validation Score = 0.433222\n",
            "[23:54:01] INFO Training Level 1 Fold # 2. Model # 0\n",
            "[23:54:10] INFO Predicting Level 1. Fold # 2. Model # 0\n",
            "[23:54:10] INFO Level 1. Fold # 2. Model # 0. Validation Score = 0.423388\n",
            "[23:54:10] INFO Training Level 1 Fold # 3. Model # 0\n",
            "[23:54:19] INFO Predicting Level 1. Fold # 3. Model # 0\n",
            "[23:54:19] INFO Level 1. Fold # 3. Model # 0. Validation Score = 0.437219\n",
            "[23:54:19] INFO Level 1. Model # 0. Mean Score = 0.431276. Std Dev = 0.005812\n",
            "[23:54:19] INFO Saving predictions for level # 1\n",
            "[23:54:19] INFO Training Fulldata Level 0. Model # 0\n",
            "[23:54:21] INFO Predicting Test Level 0. Model # 0\n",
            "[23:54:21] INFO Training Fulldata Level 0. Model # 1\n"
          ],
          "name": "stdout"
        },
        {
          "output_type": "stream",
          "text": [
            "/usr/local/lib/python3.6/dist-packages/sklearn/linear_model/_logistic.py:940: ConvergenceWarning: lbfgs failed to converge (status=1):\n",
            "STOP: TOTAL NO. of ITERATIONS REACHED LIMIT.\n",
            "\n",
            "Increase the number of iterations (max_iter) or scale the data as shown in:\n",
            "    https://scikit-learn.org/stable/modules/preprocessing.html\n",
            "Please also refer to the documentation for alternative solver options:\n",
            "    https://scikit-learn.org/stable/modules/linear_model.html#logistic-regression\n",
            "  extra_warning_msg=_LOGISTIC_SOLVER_CONVERGENCE_MSG)\n"
          ],
          "name": "stderr"
        },
        {
          "output_type": "stream",
          "text": [
            "[23:54:43] INFO Predicting Test Level 0. Model # 1\n",
            "[23:54:43] INFO Training Fulldata Level 0. Model # 2\n",
            "[23:54:43] INFO Predicting Test Level 0. Model # 2\n",
            "[23:54:43] INFO Training Fulldata Level 0. Model # 3\n",
            "[23:54:43] INFO Predicting Test Level 0. Model # 3\n",
            "[23:54:43] INFO Training Fulldata Level 1. Model # 0\n"
          ],
          "name": "stdout"
        },
        {
          "output_type": "stream",
          "text": [
            "/usr/local/lib/python3.6/dist-packages/sklearn/linear_model/_logistic.py:940: ConvergenceWarning: lbfgs failed to converge (status=1):\n",
            "STOP: TOTAL NO. of ITERATIONS REACHED LIMIT.\n",
            "\n",
            "Increase the number of iterations (max_iter) or scale the data as shown in:\n",
            "    https://scikit-learn.org/stable/modules/preprocessing.html\n",
            "Please also refer to the documentation for alternative solver options:\n",
            "    https://scikit-learn.org/stable/modules/linear_model.html#logistic-regression\n",
            "  extra_warning_msg=_LOGISTIC_SOLVER_CONVERGENCE_MSG)\n"
          ],
          "name": "stderr"
        },
        {
          "output_type": "stream",
          "text": [
            "[23:54:56] INFO Predicting Test Level 1. Model # 0\n"
          ],
          "name": "stdout"
        }
      ]
    },
    {
      "cell_type": "code",
      "metadata": {
        "_cell_guid": "85e52734-06b5-4025-a9a3-cf9697d66a45",
        "_uuid": "6a1962f3a313d10a6563eb0c8f35d8e7051c3f15",
        "trusted": false,
        "id": "_AXka6Q5RhS1",
        "colab_type": "code",
        "colab": {
          "base_uri": "https://localhost:8080/",
          "height": 34
        },
        "outputId": "4048b0bd-9e62-4bc2-f080-ff869ce050a5"
      },
      "source": [
        "# check error:\n",
        "multiclass_logloss(yvalid, preds[1])"
      ],
      "execution_count": 73,
      "outputs": [
        {
          "output_type": "execute_result",
          "data": {
            "text/plain": [
              "0.4239630096472235"
            ]
          },
          "metadata": {
            "tags": []
          },
          "execution_count": 73
        }
      ]
    },
    {
      "cell_type": "markdown",
      "metadata": {
        "_cell_guid": "161adbaf-9eec-4e13-87ee-24e4621ee6e0",
        "_uuid": "1ec49abaf6fce8fee5a59f8fc56c85d0ed7626d5",
        "id": "AYy9X6ykRhS4",
        "colab_type": "text"
      },
      "source": [
        "Thus, we see that ensembling improves the score by a great extent! Since this is supposed to be a tutorial only I wont be providing any CSVs that you can submit to the leaderboard.\n",
        "\n",
        "I hope you like it! \n",
        "\n",
        "P.S.: If the response is good, I'll add more stuff in this! :)"
      ]
    }
  ]
}